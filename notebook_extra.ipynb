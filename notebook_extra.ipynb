{
 "cells": [
  {
   "cell_type": "code",
   "execution_count": 1,
   "id": "26cfd623",
   "metadata": {},
   "outputs": [],
   "source": [
    "import torch\n",
    "import os\n",
    "from torch.utils.data import DataLoader\n",
    "import torch.optim as optim\n",
    "import numpy as np\n",
    "import argparse\n",
    "from tqdm import tqdm\n",
    "from torch.utils.tensorboard import SummaryWriter\n",
    "from pytorch_model_summary import summary\n",
    "%load_ext tensorboard\n",
    "%matplotlib notebook"
   ]
  },
  {
   "cell_type": "code",
   "execution_count": 11,
   "id": "bb967f67",
   "metadata": {},
   "outputs": [
    {
     "name": "stdout",
     "output_type": "stream",
     "text": [
      "The autoreload extension is already loaded. To reload it, use:\n",
      "  %reload_ext autoreload\n"
     ]
    }
   ],
   "source": [
    "%load_ext autoreload\n",
    "%autoreload 2\n",
    "\n",
    "from unit_vector_skeleton import *\n",
    "from model import *\n",
    "from train import *\n",
    "from test import *\n",
    "from visualization import *"
   ]
  },
  {
   "cell_type": "markdown",
   "id": "858fbd90",
   "metadata": {},
   "source": [
    "## Parameters"
   ]
  },
  {
   "cell_type": "code",
   "execution_count": 3,
   "id": "b3dfff73",
   "metadata": {},
   "outputs": [],
   "source": [
    "device = torch.device(\"cuda\" if torch.cuda.is_available() else \"cpu\")\n",
    "lr = 0.001\n",
    "epochs = 30\n",
    "seq_len = 10 \n",
    "pred_len = 10 \n",
    "batch_size = 64\n",
    "input_size = 51"
   ]
  },
  {
   "cell_type": "markdown",
   "id": "fd412096",
   "metadata": {},
   "source": [
    "## Normalized datasets and dataloaders"
   ]
  },
  {
   "cell_type": "code",
   "execution_count": 4,
   "id": "84407ffd",
   "metadata": {},
   "outputs": [
    {
     "name": "stdout",
     "output_type": "stream",
     "text": [
      "Reading preprocessed subject 1, action walking, subaction 1\n",
      "Reading preprocessed subject 1, action walking, subaction 2\n",
      "Reading preprocessed subject 1, action eating, subaction 1\n",
      "Reading preprocessed subject 1, action eating, subaction 2\n",
      "Reading preprocessed subject 1, action smoking, subaction 1\n",
      "Reading preprocessed subject 1, action smoking, subaction 2\n",
      "Reading preprocessed subject 1, action discussion, subaction 1\n",
      "Reading preprocessed subject 1, action discussion, subaction 2\n",
      "Reading preprocessed subject 1, action directions, subaction 1\n",
      "Reading preprocessed subject 1, action directions, subaction 2\n",
      "Reading preprocessed subject 1, action greeting, subaction 1\n",
      "Reading preprocessed subject 1, action greeting, subaction 2\n",
      "Reading preprocessed subject 1, action phoning, subaction 1\n",
      "Reading preprocessed subject 1, action phoning, subaction 2\n",
      "Reading preprocessed subject 1, action posing, subaction 1\n",
      "Reading preprocessed subject 1, action posing, subaction 2\n",
      "Reading preprocessed subject 1, action purchases, subaction 1\n",
      "Reading preprocessed subject 1, action purchases, subaction 2\n",
      "Reading preprocessed subject 1, action sitting, subaction 1\n",
      "Reading preprocessed subject 1, action sitting, subaction 2\n",
      "Reading preprocessed subject 1, action sittingdown, subaction 1\n",
      "Reading preprocessed subject 1, action sittingdown, subaction 2\n",
      "Reading preprocessed subject 1, action takingphoto, subaction 1\n",
      "Reading preprocessed subject 1, action takingphoto, subaction 2\n",
      "Reading preprocessed subject 1, action waiting, subaction 1\n",
      "Reading preprocessed subject 1, action waiting, subaction 2\n",
      "Reading preprocessed subject 1, action walkingdog, subaction 1\n",
      "Reading preprocessed subject 1, action walkingdog, subaction 2\n",
      "Reading preprocessed subject 1, action walkingtogether, subaction 1\n",
      "Reading preprocessed subject 1, action walkingtogether, subaction 2\n",
      "Reading preprocessed subject 6, action walking, subaction 1\n",
      "Reading preprocessed subject 6, action walking, subaction 2\n",
      "Reading preprocessed subject 6, action eating, subaction 1\n",
      "Reading preprocessed subject 6, action eating, subaction 2\n",
      "Reading preprocessed subject 6, action smoking, subaction 1\n",
      "Reading preprocessed subject 6, action smoking, subaction 2\n",
      "Reading preprocessed subject 6, action discussion, subaction 1\n",
      "Reading preprocessed subject 6, action discussion, subaction 2\n",
      "Reading preprocessed subject 6, action directions, subaction 1\n",
      "Reading preprocessed subject 6, action directions, subaction 2\n",
      "Reading preprocessed subject 6, action greeting, subaction 1\n",
      "Reading preprocessed subject 6, action greeting, subaction 2\n",
      "Reading preprocessed subject 6, action phoning, subaction 1\n",
      "Reading preprocessed subject 6, action phoning, subaction 2\n",
      "Reading preprocessed subject 6, action posing, subaction 1\n",
      "Reading preprocessed subject 6, action posing, subaction 2\n",
      "Reading preprocessed subject 6, action purchases, subaction 1\n",
      "Reading preprocessed subject 6, action purchases, subaction 2\n",
      "Reading preprocessed subject 6, action sitting, subaction 1\n",
      "Reading preprocessed subject 6, action sitting, subaction 2\n",
      "Reading preprocessed subject 6, action sittingdown, subaction 1\n",
      "Reading preprocessed subject 6, action sittingdown, subaction 2\n",
      "Reading preprocessed subject 6, action takingphoto, subaction 1\n",
      "Reading preprocessed subject 6, action takingphoto, subaction 2\n",
      "Reading preprocessed subject 6, action waiting, subaction 1\n",
      "Reading preprocessed subject 6, action waiting, subaction 2\n",
      "Reading preprocessed subject 6, action walkingdog, subaction 1\n",
      "Reading preprocessed subject 6, action walkingdog, subaction 2\n",
      "Reading preprocessed subject 6, action walkingtogether, subaction 1\n",
      "Reading preprocessed subject 6, action walkingtogether, subaction 2\n",
      "Reading preprocessed subject 7, action walking, subaction 1\n",
      "Reading preprocessed subject 7, action walking, subaction 2\n",
      "Reading preprocessed subject 7, action eating, subaction 1\n",
      "Reading preprocessed subject 7, action eating, subaction 2\n",
      "Reading preprocessed subject 7, action smoking, subaction 1\n",
      "Reading preprocessed subject 7, action smoking, subaction 2\n",
      "Reading preprocessed subject 7, action discussion, subaction 1\n",
      "Reading preprocessed subject 7, action discussion, subaction 2\n",
      "Reading preprocessed subject 7, action directions, subaction 1\n",
      "Reading preprocessed subject 7, action directions, subaction 2\n",
      "Reading preprocessed subject 7, action greeting, subaction 1\n",
      "Reading preprocessed subject 7, action greeting, subaction 2\n",
      "Reading preprocessed subject 7, action phoning, subaction 1\n",
      "Reading preprocessed subject 7, action phoning, subaction 2\n",
      "Reading preprocessed subject 7, action posing, subaction 1\n",
      "Reading preprocessed subject 7, action posing, subaction 2\n",
      "Reading preprocessed subject 7, action purchases, subaction 1\n",
      "Reading preprocessed subject 7, action purchases, subaction 2\n",
      "Reading preprocessed subject 7, action sitting, subaction 1\n",
      "Reading preprocessed subject 7, action sitting, subaction 2\n",
      "Reading preprocessed subject 7, action sittingdown, subaction 1\n",
      "Reading preprocessed subject 7, action sittingdown, subaction 2\n",
      "Reading preprocessed subject 7, action takingphoto, subaction 1\n",
      "Reading preprocessed subject 7, action takingphoto, subaction 2\n",
      "Reading preprocessed subject 7, action waiting, subaction 1\n",
      "Reading preprocessed subject 7, action waiting, subaction 2\n",
      "Reading preprocessed subject 7, action walkingdog, subaction 1\n",
      "Reading preprocessed subject 7, action walkingdog, subaction 2\n",
      "Reading preprocessed subject 7, action walkingtogether, subaction 1\n",
      "Reading preprocessed subject 7, action walkingtogether, subaction 2\n",
      "Reading preprocessed subject 8, action walking, subaction 1\n",
      "Reading preprocessed subject 8, action walking, subaction 2\n",
      "Reading preprocessed subject 8, action eating, subaction 1\n",
      "Reading preprocessed subject 8, action eating, subaction 2\n",
      "Reading preprocessed subject 8, action smoking, subaction 1\n",
      "Reading preprocessed subject 8, action smoking, subaction 2\n",
      "Reading preprocessed subject 8, action discussion, subaction 1\n",
      "Reading preprocessed subject 8, action discussion, subaction 2\n",
      "Reading preprocessed subject 8, action directions, subaction 1\n",
      "Reading preprocessed subject 8, action directions, subaction 2\n",
      "Reading preprocessed subject 8, action greeting, subaction 1\n",
      "Reading preprocessed subject 8, action greeting, subaction 2\n",
      "Reading preprocessed subject 8, action phoning, subaction 1\n",
      "Reading preprocessed subject 8, action phoning, subaction 2\n",
      "Reading preprocessed subject 8, action posing, subaction 1\n",
      "Reading preprocessed subject 8, action posing, subaction 2\n",
      "Reading preprocessed subject 8, action purchases, subaction 1\n",
      "Reading preprocessed subject 8, action purchases, subaction 2\n",
      "Reading preprocessed subject 8, action sitting, subaction 1\n",
      "Reading preprocessed subject 8, action sitting, subaction 2\n",
      "Reading preprocessed subject 8, action sittingdown, subaction 1\n",
      "Reading preprocessed subject 8, action sittingdown, subaction 2\n",
      "Reading preprocessed subject 8, action takingphoto, subaction 1\n",
      "Reading preprocessed subject 8, action takingphoto, subaction 2\n",
      "Reading preprocessed subject 8, action waiting, subaction 1\n",
      "Reading preprocessed subject 8, action waiting, subaction 2\n",
      "Reading preprocessed subject 8, action walkingdog, subaction 1\n",
      "Reading preprocessed subject 8, action walkingdog, subaction 2\n",
      "Reading preprocessed subject 8, action walkingtogether, subaction 1\n",
      "Reading preprocessed subject 8, action walkingtogether, subaction 2\n",
      "Reading preprocessed subject 9, action walking, subaction 1\n",
      "Reading preprocessed subject 9, action walking, subaction 2\n",
      "Reading preprocessed subject 9, action eating, subaction 1\n",
      "Reading preprocessed subject 9, action eating, subaction 2\n",
      "Reading preprocessed subject 9, action smoking, subaction 1\n",
      "Reading preprocessed subject 9, action smoking, subaction 2\n",
      "Reading preprocessed subject 9, action discussion, subaction 1\n",
      "Reading preprocessed subject 9, action discussion, subaction 2\n",
      "Reading preprocessed subject 9, action directions, subaction 1\n",
      "Reading preprocessed subject 9, action directions, subaction 2\n",
      "Reading preprocessed subject 9, action greeting, subaction 1\n",
      "Reading preprocessed subject 9, action greeting, subaction 2\n",
      "Reading preprocessed subject 9, action phoning, subaction 1\n",
      "Reading preprocessed subject 9, action phoning, subaction 2\n",
      "Reading preprocessed subject 9, action posing, subaction 1\n",
      "Reading preprocessed subject 9, action posing, subaction 2\n",
      "Reading preprocessed subject 9, action purchases, subaction 1\n",
      "Reading preprocessed subject 9, action purchases, subaction 2\n",
      "Reading preprocessed subject 9, action sitting, subaction 1\n",
      "Reading preprocessed subject 9, action sitting, subaction 2\n",
      "Reading preprocessed subject 9, action sittingdown, subaction 1\n",
      "Reading preprocessed subject 9, action sittingdown, subaction 2\n",
      "Reading preprocessed subject 9, action takingphoto, subaction 1\n",
      "Reading preprocessed subject 9, action takingphoto, subaction 2\n",
      "Reading preprocessed subject 9, action waiting, subaction 1\n",
      "Reading preprocessed subject 9, action waiting, subaction 2\n",
      "Reading preprocessed subject 9, action walkingdog, subaction 1\n",
      "Reading preprocessed subject 9, action walkingdog, subaction 2\n",
      "Reading preprocessed subject 9, action walkingtogether, subaction 1\n",
      "Reading preprocessed subject 9, action walkingtogether, subaction 2\n"
     ]
    },
    {
     "name": "stdout",
     "output_type": "stream",
     "text": [
      "Reading preprocessed subject 11, action walking, subaction 1\n",
      "Reading preprocessed subject 11, action walking, subaction 2\n",
      "Reading preprocessed subject 11, action eating, subaction 1\n",
      "Reading preprocessed subject 11, action eating, subaction 2\n",
      "Reading preprocessed subject 11, action smoking, subaction 1\n",
      "Reading preprocessed subject 11, action smoking, subaction 2\n",
      "Reading preprocessed subject 11, action discussion, subaction 1\n",
      "Reading preprocessed subject 11, action discussion, subaction 2\n",
      "Reading preprocessed subject 11, action directions, subaction 1\n",
      "Reading preprocessed subject 11, action directions, subaction 2\n",
      "Reading preprocessed subject 11, action greeting, subaction 1\n",
      "Reading preprocessed subject 11, action greeting, subaction 2\n",
      "Reading preprocessed subject 11, action phoning, subaction 1\n",
      "Reading preprocessed subject 11, action phoning, subaction 2\n",
      "Reading preprocessed subject 11, action posing, subaction 1\n",
      "Reading preprocessed subject 11, action posing, subaction 2\n",
      "Reading preprocessed subject 11, action purchases, subaction 1\n",
      "Reading preprocessed subject 11, action purchases, subaction 2\n",
      "Reading preprocessed subject 11, action sitting, subaction 1\n",
      "Reading preprocessed subject 11, action sitting, subaction 2\n",
      "Reading preprocessed subject 11, action sittingdown, subaction 1\n",
      "Reading preprocessed subject 11, action sittingdown, subaction 2\n",
      "Reading preprocessed subject 11, action takingphoto, subaction 1\n",
      "Reading preprocessed subject 11, action takingphoto, subaction 2\n",
      "Reading preprocessed subject 11, action waiting, subaction 1\n",
      "Reading preprocessed subject 11, action waiting, subaction 2\n",
      "Reading preprocessed subject 11, action walkingdog, subaction 1\n",
      "Reading preprocessed subject 11, action walkingdog, subaction 2\n",
      "Reading preprocessed subject 11, action walkingtogether, subaction 1\n",
      "Reading preprocessed subject 11, action walkingtogether, subaction 2\n",
      "Reading preprocessed subject 5, action walking, subaction 1\n",
      "Reading preprocessed subject 5, action walking, subaction 2\n",
      "Reading preprocessed subject 5, action eating, subaction 1\n",
      "Reading preprocessed subject 5, action eating, subaction 2\n",
      "Reading preprocessed subject 5, action smoking, subaction 1\n",
      "Reading preprocessed subject 5, action smoking, subaction 2\n",
      "Reading preprocessed subject 5, action discussion, subaction 1\n",
      "Reading preprocessed subject 5, action discussion, subaction 2\n",
      "Reading preprocessed subject 5, action directions, subaction 1\n",
      "Reading preprocessed subject 5, action directions, subaction 2\n",
      "Reading preprocessed subject 5, action greeting, subaction 1\n",
      "Reading preprocessed subject 5, action greeting, subaction 2\n",
      "Reading preprocessed subject 5, action phoning, subaction 1\n",
      "Reading preprocessed subject 5, action phoning, subaction 2\n",
      "Reading preprocessed subject 5, action posing, subaction 1\n",
      "Reading preprocessed subject 5, action posing, subaction 2\n",
      "Reading preprocessed subject 5, action purchases, subaction 1\n",
      "Reading preprocessed subject 5, action purchases, subaction 2\n",
      "Reading preprocessed subject 5, action sitting, subaction 1\n",
      "Reading preprocessed subject 5, action sitting, subaction 2\n",
      "Reading preprocessed subject 5, action sittingdown, subaction 1\n",
      "Reading preprocessed subject 5, action sittingdown, subaction 2\n",
      "Reading preprocessed subject 5, action takingphoto, subaction 1\n",
      "Reading preprocessed subject 5, action takingphoto, subaction 2\n",
      "Reading preprocessed subject 5, action waiting, subaction 1\n",
      "Reading preprocessed subject 5, action waiting, subaction 2\n",
      "Reading preprocessed subject 5, action walkingdog, subaction 1\n",
      "Reading preprocessed subject 5, action walkingdog, subaction 2\n",
      "Reading preprocessed subject 5, action walkingtogether, subaction 1\n",
      "Reading preprocessed subject 5, action walkingtogether, subaction 2\n",
      "Reading preprocessed file D:\\project/preprocessed/extra/2021-08-04-singlePerson_000.txt\n",
      "Reading preprocessed file D:\\project/preprocessed/extra/2021-08-04-singlePerson_001.txt\n",
      "Reading preprocessed file D:\\project/preprocessed/extra/2021-08-04-singlePerson_002.txt\n",
      "Reading preprocessed file D:\\project/preprocessed/extra/2021-08-04-singlePerson_003.txt\n"
     ]
    }
   ],
   "source": [
    "dataset_h36m_train = Unit_Vector_Skeleton_Dataset(input_n = seq_len, output_n = pred_len, split=0)\n",
    "dataset_h36m_test = Unit_Vector_Skeleton_Dataset(input_n = seq_len, output_n = pred_len, split=1)\n",
    "dataset_extra = Unit_Vector_Skeleton_Dataset(input_n = seq_len, output_n = pred_len, split=2)"
   ]
  },
  {
   "cell_type": "code",
   "execution_count": 5,
   "id": "12a42f51",
   "metadata": {},
   "outputs": [],
   "source": [
    "train_loader = DataLoader(dataset_h36m_train, batch_size=batch_size, shuffle=True, pin_memory=True, drop_last=True)\n",
    "test_loader = DataLoader(dataset_h36m_test, batch_size=batch_size, shuffle=True, pin_memory=True, drop_last=True)\n",
    "extra_loader = DataLoader(dataset_extra, batch_size=batch_size, shuffle=True, pin_memory=True, drop_last=True)"
   ]
  },
  {
   "cell_type": "markdown",
   "id": "48ff7a07",
   "metadata": {},
   "source": [
    "# Model with longer 1d convolution"
   ]
  },
  {
   "cell_type": "code",
   "execution_count": 7,
   "id": "be0e47ba",
   "metadata": {},
   "outputs": [
    {
     "name": "stdout",
     "output_type": "stream",
     "text": [
      "-----------------------------------------------------------------------\n",
      "      Layer (type)        Output Shape         Param #     Tr. Param #\n",
      "=======================================================================\n",
      "          Linear-1        [64, 10, 64]           3,328           3,328\n",
      "       ConvBlock-2        [64, 10, 64]         115,090         115,090\n",
      "       ConvBlock-3        [64, 10, 64]         115,090         115,090\n",
      "       ConvBlock-4        [64, 10, 64]         115,090         115,090\n",
      "       ConvBlock-5        [64, 10, 64]         115,090         115,090\n",
      "       ConvBlock-6        [64, 10, 64]         115,090         115,090\n",
      "          Conv1d-7        [64, 10, 64]             110             110\n",
      "          Linear-8        [64, 10, 51]           3,315           3,315\n",
      "=======================================================================\n",
      "Total params: 582,203\n",
      "Trainable params: 582,203\n",
      "Non-trainable params: 0\n",
      "-----------------------------------------------------------------------\n",
      "\n",
      "\n",
      "================================== Hierarchical Summary ==================================\n",
      "\n",
      "Model(\n",
      "  (encoder): Linear(in_features=51, out_features=64, bias=True), 3,328 params\n",
      "  (conv_blocks): Sequential(\n",
      "    (0): ConvBlock(\n",
      "      (norm1): LayerNorm((64,), eps=1e-05, elementwise_affine=True), 128 params\n",
      "      (SpatioBlock): Sequential(\n",
      "        (0): Conv1d(10, 32, kernel_size=(51,), stride=(1,), padding=(25,)), 16,352 params\n",
      "        (1): ReLU(), 0 params\n",
      "        (2): Dropout(p=0.1, inplace=False), 0 params\n",
      "        (3): Conv1d(32, 10, kernel_size=(51,), stride=(1,), padding=(25,)), 16,330 params\n",
      "      ), 32,682 params\n",
      "      (se): SELayer(\n",
      "        (squeeze): AdaptiveAvgPool1d(output_size=1), 0 params\n",
      "        (excitation): Sequential(\n",
      "          (0): Linear(in_features=10, out_features=2, bias=False), 20 params\n",
      "          (1): ReLU(inplace=True), 0 params\n",
      "          (2): Linear(in_features=2, out_features=10, bias=False), 20 params\n",
      "          (3): Sigmoid(), 0 params\n",
      "        ), 40 params\n",
      "      ), 40 params\n",
      "      (norm2): LayerNorm((64,), eps=1e-05, elementwise_affine=True), 128 params\n",
      "      (TemporalBlock): Sequential(\n",
      "        (0): Conv1d(64, 128, kernel_size=(5,), stride=(1,), padding=(2,)), 41,088 params\n",
      "        (1): ReLU(), 0 params\n",
      "        (2): Dropout(p=0.1, inplace=False), 0 params\n",
      "        (3): Conv1d(128, 64, kernel_size=(5,), stride=(1,), padding=(2,)), 41,024 params\n",
      "      ), 82,112 params\n",
      "    ), 115,090 params\n",
      "    (1): ConvBlock(\n",
      "      (norm1): LayerNorm((64,), eps=1e-05, elementwise_affine=True), 128 params\n",
      "      (SpatioBlock): Sequential(\n",
      "        (0): Conv1d(10, 32, kernel_size=(51,), stride=(1,), padding=(25,)), 16,352 params\n",
      "        (1): ReLU(), 0 params\n",
      "        (2): Dropout(p=0.1, inplace=False), 0 params\n",
      "        (3): Conv1d(32, 10, kernel_size=(51,), stride=(1,), padding=(25,)), 16,330 params\n",
      "      ), 32,682 params\n",
      "      (se): SELayer(\n",
      "        (squeeze): AdaptiveAvgPool1d(output_size=1), 0 params\n",
      "        (excitation): Sequential(\n",
      "          (0): Linear(in_features=10, out_features=2, bias=False), 20 params\n",
      "          (1): ReLU(inplace=True), 0 params\n",
      "          (2): Linear(in_features=2, out_features=10, bias=False), 20 params\n",
      "          (3): Sigmoid(), 0 params\n",
      "        ), 40 params\n",
      "      ), 40 params\n",
      "      (norm2): LayerNorm((64,), eps=1e-05, elementwise_affine=True), 128 params\n",
      "      (TemporalBlock): Sequential(\n",
      "        (0): Conv1d(64, 128, kernel_size=(5,), stride=(1,), padding=(2,)), 41,088 params\n",
      "        (1): ReLU(), 0 params\n",
      "        (2): Dropout(p=0.1, inplace=False), 0 params\n",
      "        (3): Conv1d(128, 64, kernel_size=(5,), stride=(1,), padding=(2,)), 41,024 params\n",
      "      ), 82,112 params\n",
      "    ), 115,090 params\n",
      "    (2): ConvBlock(\n",
      "      (norm1): LayerNorm((64,), eps=1e-05, elementwise_affine=True), 128 params\n",
      "      (SpatioBlock): Sequential(\n",
      "        (0): Conv1d(10, 32, kernel_size=(51,), stride=(1,), padding=(25,)), 16,352 params\n",
      "        (1): ReLU(), 0 params\n",
      "        (2): Dropout(p=0.1, inplace=False), 0 params\n",
      "        (3): Conv1d(32, 10, kernel_size=(51,), stride=(1,), padding=(25,)), 16,330 params\n",
      "      ), 32,682 params\n",
      "      (se): SELayer(\n",
      "        (squeeze): AdaptiveAvgPool1d(output_size=1), 0 params\n",
      "        (excitation): Sequential(\n",
      "          (0): Linear(in_features=10, out_features=2, bias=False), 20 params\n",
      "          (1): ReLU(inplace=True), 0 params\n",
      "          (2): Linear(in_features=2, out_features=10, bias=False), 20 params\n",
      "          (3): Sigmoid(), 0 params\n",
      "        ), 40 params\n",
      "      ), 40 params\n",
      "      (norm2): LayerNorm((64,), eps=1e-05, elementwise_affine=True), 128 params\n",
      "      (TemporalBlock): Sequential(\n",
      "        (0): Conv1d(64, 128, kernel_size=(5,), stride=(1,), padding=(2,)), 41,088 params\n",
      "        (1): ReLU(), 0 params\n",
      "        (2): Dropout(p=0.1, inplace=False), 0 params\n",
      "        (3): Conv1d(128, 64, kernel_size=(5,), stride=(1,), padding=(2,)), 41,024 params\n",
      "      ), 82,112 params\n",
      "    ), 115,090 params\n",
      "    (3): ConvBlock(\n",
      "      (norm1): LayerNorm((64,), eps=1e-05, elementwise_affine=True), 128 params\n",
      "      (SpatioBlock): Sequential(\n",
      "        (0): Conv1d(10, 32, kernel_size=(51,), stride=(1,), padding=(25,)), 16,352 params\n",
      "        (1): ReLU(), 0 params\n",
      "        (2): Dropout(p=0.1, inplace=False), 0 params\n",
      "        (3): Conv1d(32, 10, kernel_size=(51,), stride=(1,), padding=(25,)), 16,330 params\n",
      "      ), 32,682 params\n",
      "      (se): SELayer(\n",
      "        (squeeze): AdaptiveAvgPool1d(output_size=1), 0 params\n",
      "        (excitation): Sequential(\n",
      "          (0): Linear(in_features=10, out_features=2, bias=False), 20 params\n",
      "          (1): ReLU(inplace=True), 0 params\n",
      "          (2): Linear(in_features=2, out_features=10, bias=False), 20 params\n",
      "          (3): Sigmoid(), 0 params\n",
      "        ), 40 params\n",
      "      ), 40 params\n",
      "      (norm2): LayerNorm((64,), eps=1e-05, elementwise_affine=True), 128 params\n",
      "      (TemporalBlock): Sequential(\n",
      "        (0): Conv1d(64, 128, kernel_size=(5,), stride=(1,), padding=(2,)), 41,088 params\n",
      "        (1): ReLU(), 0 params\n",
      "        (2): Dropout(p=0.1, inplace=False), 0 params\n",
      "        (3): Conv1d(128, 64, kernel_size=(5,), stride=(1,), padding=(2,)), 41,024 params\n",
      "      ), 82,112 params\n",
      "    ), 115,090 params\n",
      "    (4): ConvBlock(\n",
      "      (norm1): LayerNorm((64,), eps=1e-05, elementwise_affine=True), 128 params\n",
      "      (SpatioBlock): Sequential(\n",
      "        (0): Conv1d(10, 32, kernel_size=(51,), stride=(1,), padding=(25,)), 16,352 params\n",
      "        (1): ReLU(), 0 params\n",
      "        (2): Dropout(p=0.1, inplace=False), 0 params\n",
      "        (3): Conv1d(32, 10, kernel_size=(51,), stride=(1,), padding=(25,)), 16,330 params\n",
      "      ), 32,682 params\n",
      "      (se): SELayer(\n",
      "        (squeeze): AdaptiveAvgPool1d(output_size=1), 0 params\n",
      "        (excitation): Sequential(\n",
      "          (0): Linear(in_features=10, out_features=2, bias=False), 20 params\n",
      "          (1): ReLU(inplace=True), 0 params\n",
      "          (2): Linear(in_features=2, out_features=10, bias=False), 20 params\n",
      "          (3): Sigmoid(), 0 params\n",
      "        ), 40 params\n",
      "      ), 40 params\n",
      "      (norm2): LayerNorm((64,), eps=1e-05, elementwise_affine=True), 128 params\n",
      "      (TemporalBlock): Sequential(\n",
      "        (0): Conv1d(64, 128, kernel_size=(5,), stride=(1,), padding=(2,)), 41,088 params\n",
      "        (1): ReLU(), 0 params\n",
      "        (2): Dropout(p=0.1, inplace=False), 0 params\n",
      "        (3): Conv1d(128, 64, kernel_size=(5,), stride=(1,), padding=(2,)), 41,024 params\n",
      "      ), 82,112 params\n",
      "    ), 115,090 params\n",
      "  ), 575,450 params\n",
      "  (decoder): Sequential(\n",
      "    (0): Conv1d(10, 10, kernel_size=(1,), stride=(1,)), 110 params\n",
      "    (1): Linear(in_features=64, out_features=51, bias=True), 3,315 params\n",
      "  ), 3,425 params\n",
      "), 582,203 params\n",
      "\n",
      "\n",
      "==========================================================================================\n",
      "\n"
     ]
    }
   ],
   "source": [
    "model = Model(kernel_type=0, kernel_x=input_size, kernel_y=5, num_layers=5, hidden_dim=64,\n",
    "                 input_size=input_size, seq_len=seq_len, pred_len=pred_len, time_hid=32, joints_hid=128)\n",
    "print(summary(model, torch.zeros((batch_size, seq_len, input_size)), show_hierarchical=True))"
   ]
  },
  {
   "cell_type": "markdown",
   "id": "f5a272d9",
   "metadata": {},
   "source": [
    "## Train model"
   ]
  },
  {
   "cell_type": "code",
   "execution_count": 8,
   "id": "60bab477",
   "metadata": {},
   "outputs": [
    {
     "name": "stdout",
     "output_type": "stream",
     "text": [
      "Save data of the run in: ./runs\\exp5\n",
      "Run epoch: 0\n"
     ]
    },
    {
     "name": "stderr",
     "output_type": "stream",
     "text": [
      "100%|██████████████████████████████████████████████████████████████████████████████| 2847/2847 [03:49<00:00, 12.41it/s]\n"
     ]
    },
    {
     "name": "stdout",
     "output_type": "stream",
     "text": [
      "Run epoch: 1\n"
     ]
    },
    {
     "name": "stderr",
     "output_type": "stream",
     "text": [
      "100%|██████████████████████████████████████████████████████████████████████████████| 2847/2847 [03:28<00:00, 13.67it/s]\n"
     ]
    },
    {
     "name": "stdout",
     "output_type": "stream",
     "text": [
      "Run epoch: 2\n"
     ]
    },
    {
     "name": "stderr",
     "output_type": "stream",
     "text": [
      "100%|██████████████████████████████████████████████████████████████████████████████| 2847/2847 [03:29<00:00, 13.59it/s]\n"
     ]
    },
    {
     "name": "stdout",
     "output_type": "stream",
     "text": [
      "Run epoch: 3\n"
     ]
    },
    {
     "name": "stderr",
     "output_type": "stream",
     "text": [
      "100%|██████████████████████████████████████████████████████████████████████████████| 2847/2847 [03:27<00:00, 13.74it/s]\n"
     ]
    },
    {
     "name": "stdout",
     "output_type": "stream",
     "text": [
      "Run epoch: 4\n"
     ]
    },
    {
     "name": "stderr",
     "output_type": "stream",
     "text": [
      "100%|██████████████████████████████████████████████████████████████████████████████| 2847/2847 [03:33<00:00, 13.32it/s]\n"
     ]
    },
    {
     "name": "stdout",
     "output_type": "stream",
     "text": [
      "Run epoch: 5\n"
     ]
    },
    {
     "name": "stderr",
     "output_type": "stream",
     "text": [
      "100%|██████████████████████████████████████████████████████████████████████████████| 2847/2847 [03:28<00:00, 13.63it/s]\n"
     ]
    },
    {
     "name": "stdout",
     "output_type": "stream",
     "text": [
      "Run epoch: 6\n"
     ]
    },
    {
     "name": "stderr",
     "output_type": "stream",
     "text": [
      "100%|██████████████████████████████████████████████████████████████████████████████| 2847/2847 [03:26<00:00, 13.77it/s]\n"
     ]
    },
    {
     "name": "stdout",
     "output_type": "stream",
     "text": [
      "Run epoch: 7\n"
     ]
    },
    {
     "name": "stderr",
     "output_type": "stream",
     "text": [
      "100%|██████████████████████████████████████████████████████████████████████████████| 2847/2847 [03:29<00:00, 13.57it/s]\n"
     ]
    },
    {
     "name": "stdout",
     "output_type": "stream",
     "text": [
      "Run epoch: 8\n"
     ]
    },
    {
     "name": "stderr",
     "output_type": "stream",
     "text": [
      "100%|██████████████████████████████████████████████████████████████████████████████| 2847/2847 [03:22<00:00, 14.03it/s]\n"
     ]
    },
    {
     "name": "stdout",
     "output_type": "stream",
     "text": [
      "Run epoch: 9\n"
     ]
    },
    {
     "name": "stderr",
     "output_type": "stream",
     "text": [
      "100%|██████████████████████████████████████████████████████████████████████████████| 2847/2847 [03:21<00:00, 14.14it/s]\n"
     ]
    },
    {
     "name": "stdout",
     "output_type": "stream",
     "text": [
      "Run epoch: 10\n"
     ]
    },
    {
     "name": "stderr",
     "output_type": "stream",
     "text": [
      "100%|██████████████████████████████████████████████████████████████████████████████| 2847/2847 [03:48<00:00, 12.43it/s]\n"
     ]
    },
    {
     "name": "stdout",
     "output_type": "stream",
     "text": [
      "Run epoch: 11\n"
     ]
    },
    {
     "name": "stderr",
     "output_type": "stream",
     "text": [
      "100%|██████████████████████████████████████████████████████████████████████████████| 2847/2847 [03:28<00:00, 13.68it/s]\n"
     ]
    },
    {
     "name": "stdout",
     "output_type": "stream",
     "text": [
      "Run epoch: 12\n"
     ]
    },
    {
     "name": "stderr",
     "output_type": "stream",
     "text": [
      "100%|██████████████████████████████████████████████████████████████████████████████| 2847/2847 [03:21<00:00, 14.11it/s]\n"
     ]
    },
    {
     "name": "stdout",
     "output_type": "stream",
     "text": [
      "Run epoch: 13\n"
     ]
    },
    {
     "name": "stderr",
     "output_type": "stream",
     "text": [
      "100%|██████████████████████████████████████████████████████████████████████████████| 2847/2847 [03:28<00:00, 13.68it/s]\n"
     ]
    },
    {
     "name": "stdout",
     "output_type": "stream",
     "text": [
      "Run epoch: 14\n"
     ]
    },
    {
     "name": "stderr",
     "output_type": "stream",
     "text": [
      "100%|██████████████████████████████████████████████████████████████████████████████| 2847/2847 [03:27<00:00, 13.71it/s]\n"
     ]
    },
    {
     "name": "stdout",
     "output_type": "stream",
     "text": [
      "Epoch 00015: reducing learning rate of group 0 to 3.0000e-04.\n",
      "Run epoch: 15\n"
     ]
    },
    {
     "name": "stderr",
     "output_type": "stream",
     "text": [
      "100%|██████████████████████████████████████████████████████████████████████████████| 2847/2847 [03:22<00:00, 14.08it/s]\n"
     ]
    },
    {
     "name": "stdout",
     "output_type": "stream",
     "text": [
      "Run epoch: 16\n"
     ]
    },
    {
     "name": "stderr",
     "output_type": "stream",
     "text": [
      "100%|██████████████████████████████████████████████████████████████████████████████| 2847/2847 [03:26<00:00, 13.80it/s]\n"
     ]
    },
    {
     "name": "stdout",
     "output_type": "stream",
     "text": [
      "Run epoch: 17\n"
     ]
    },
    {
     "name": "stderr",
     "output_type": "stream",
     "text": [
      "100%|██████████████████████████████████████████████████████████████████████████████| 2847/2847 [03:26<00:00, 13.79it/s]\n"
     ]
    },
    {
     "name": "stdout",
     "output_type": "stream",
     "text": [
      "Run epoch: 18\n"
     ]
    },
    {
     "name": "stderr",
     "output_type": "stream",
     "text": [
      "100%|██████████████████████████████████████████████████████████████████████████████| 2847/2847 [03:24<00:00, 13.93it/s]\n"
     ]
    },
    {
     "name": "stdout",
     "output_type": "stream",
     "text": [
      "Epoch 00019: reducing learning rate of group 0 to 9.0000e-05.\n",
      "Run epoch: 19\n"
     ]
    },
    {
     "name": "stderr",
     "output_type": "stream",
     "text": [
      "100%|██████████████████████████████████████████████████████████████████████████████| 2847/2847 [03:22<00:00, 14.04it/s]\n"
     ]
    },
    {
     "name": "stdout",
     "output_type": "stream",
     "text": [
      "Run epoch: 20\n"
     ]
    },
    {
     "name": "stderr",
     "output_type": "stream",
     "text": [
      "100%|██████████████████████████████████████████████████████████████████████████████| 2847/2847 [03:25<00:00, 13.84it/s]\n"
     ]
    },
    {
     "name": "stdout",
     "output_type": "stream",
     "text": [
      "Run epoch: 21\n"
     ]
    },
    {
     "name": "stderr",
     "output_type": "stream",
     "text": [
      "100%|██████████████████████████████████████████████████████████████████████████████| 2847/2847 [03:23<00:00, 13.97it/s]\n"
     ]
    },
    {
     "name": "stdout",
     "output_type": "stream",
     "text": [
      "Epoch 00022: reducing learning rate of group 0 to 2.7000e-05.\n",
      "Run epoch: 22\n"
     ]
    },
    {
     "name": "stderr",
     "output_type": "stream",
     "text": [
      "100%|██████████████████████████████████████████████████████████████████████████████| 2847/2847 [03:24<00:00, 13.90it/s]\n"
     ]
    },
    {
     "name": "stdout",
     "output_type": "stream",
     "text": [
      "Run epoch: 23\n"
     ]
    },
    {
     "name": "stderr",
     "output_type": "stream",
     "text": [
      "100%|██████████████████████████████████████████████████████████████████████████████| 2847/2847 [03:26<00:00, 13.82it/s]\n"
     ]
    },
    {
     "name": "stdout",
     "output_type": "stream",
     "text": [
      "Run epoch: 24\n"
     ]
    },
    {
     "name": "stderr",
     "output_type": "stream",
     "text": [
      "100%|██████████████████████████████████████████████████████████████████████████████| 2847/2847 [03:24<00:00, 13.95it/s]\n"
     ]
    },
    {
     "name": "stdout",
     "output_type": "stream",
     "text": [
      "Epoch 00025: reducing learning rate of group 0 to 8.1000e-06.\n",
      "Run epoch: 25\n"
     ]
    },
    {
     "name": "stderr",
     "output_type": "stream",
     "text": [
      "100%|██████████████████████████████████████████████████████████████████████████████| 2847/2847 [03:28<00:00, 13.67it/s]\n"
     ]
    },
    {
     "name": "stdout",
     "output_type": "stream",
     "text": [
      "Run epoch: 26\n"
     ]
    },
    {
     "name": "stderr",
     "output_type": "stream",
     "text": [
      "100%|██████████████████████████████████████████████████████████████████████████████| 2847/2847 [03:24<00:00, 13.90it/s]\n"
     ]
    },
    {
     "name": "stdout",
     "output_type": "stream",
     "text": [
      "Run epoch: 27\n"
     ]
    },
    {
     "name": "stderr",
     "output_type": "stream",
     "text": [
      "100%|██████████████████████████████████████████████████████████████████████████████| 2847/2847 [03:25<00:00, 13.84it/s]\n"
     ]
    },
    {
     "name": "stdout",
     "output_type": "stream",
     "text": [
      "Epoch 00028: reducing learning rate of group 0 to 2.4300e-06.\n",
      "Run epoch: 28\n"
     ]
    },
    {
     "name": "stderr",
     "output_type": "stream",
     "text": [
      "100%|██████████████████████████████████████████████████████████████████████████████| 2847/2847 [03:28<00:00, 13.68it/s]\n"
     ]
    },
    {
     "name": "stdout",
     "output_type": "stream",
     "text": [
      "Run epoch: 29\n"
     ]
    },
    {
     "name": "stderr",
     "output_type": "stream",
     "text": [
      "100%|██████████████████████████████████████████████████████████████████████████████| 2847/2847 [03:27<00:00, 13.73it/s]\n"
     ]
    }
   ],
   "source": [
    "model_1d_long = Model(kernel_type=0, kernel_x=input_size, kernel_y=5, num_layers=5, hidden_dim=64,\n",
    "                 input_size=input_size, seq_len=seq_len, pred_len=pred_len, time_hid=32, joints_hid=128).to(device)\n",
    "train(model_1d_long, train_loader, test_loader, device, lr=lr, n_epochs=epochs, root='./runs', \n",
    "      input_n=seq_len, output_n=pred_len, autoreg=False)"
   ]
  },
  {
   "cell_type": "markdown",
   "id": "4fa72e3f",
   "metadata": {},
   "source": [
    "## Load saved model"
   ]
  },
  {
   "cell_type": "code",
   "execution_count": 9,
   "id": "1edf7923",
   "metadata": {},
   "outputs": [
    {
     "name": "stdout",
     "output_type": "stream",
     "text": [
      "-----------------------------------------------------------------------\n",
      "      Layer (type)        Output Shape         Param #     Tr. Param #\n",
      "=======================================================================\n",
      "          Linear-1        [64, 10, 64]           3,328           3,328\n",
      "       ConvBlock-2        [64, 10, 64]         115,090         115,090\n",
      "       ConvBlock-3        [64, 10, 64]         115,090         115,090\n",
      "       ConvBlock-4        [64, 10, 64]         115,090         115,090\n",
      "       ConvBlock-5        [64, 10, 64]         115,090         115,090\n",
      "       ConvBlock-6        [64, 10, 64]         115,090         115,090\n",
      "          Conv1d-7        [64, 10, 64]             110             110\n",
      "          Linear-8        [64, 10, 51]           3,315           3,315\n",
      "=======================================================================\n",
      "Total params: 582,203\n",
      "Trainable params: 582,203\n",
      "Non-trainable params: 0\n",
      "-----------------------------------------------------------------------\n",
      "\n",
      "\n",
      "================================== Hierarchical Summary ==================================\n",
      "\n",
      "Model(\n",
      "  (encoder): Linear(in_features=51, out_features=64, bias=True), 3,328 params\n",
      "  (conv_blocks): Sequential(\n",
      "    (0): ConvBlock(\n",
      "      (norm1): LayerNorm((64,), eps=1e-05, elementwise_affine=True), 128 params\n",
      "      (SpatioBlock): Sequential(\n",
      "        (0): Conv1d(10, 32, kernel_size=(51,), stride=(1,), padding=(25,)), 16,352 params\n",
      "        (1): ReLU(), 0 params\n",
      "        (2): Dropout(p=0.1, inplace=False), 0 params\n",
      "        (3): Conv1d(32, 10, kernel_size=(51,), stride=(1,), padding=(25,)), 16,330 params\n",
      "      ), 32,682 params\n",
      "      (se): SELayer(\n",
      "        (squeeze): AdaptiveAvgPool1d(output_size=1), 0 params\n",
      "        (excitation): Sequential(\n",
      "          (0): Linear(in_features=10, out_features=2, bias=False), 20 params\n",
      "          (1): ReLU(inplace=True), 0 params\n",
      "          (2): Linear(in_features=2, out_features=10, bias=False), 20 params\n",
      "          (3): Sigmoid(), 0 params\n",
      "        ), 40 params\n",
      "      ), 40 params\n",
      "      (norm2): LayerNorm((64,), eps=1e-05, elementwise_affine=True), 128 params\n",
      "      (TemporalBlock): Sequential(\n",
      "        (0): Conv1d(64, 128, kernel_size=(5,), stride=(1,), padding=(2,)), 41,088 params\n",
      "        (1): ReLU(), 0 params\n",
      "        (2): Dropout(p=0.1, inplace=False), 0 params\n",
      "        (3): Conv1d(128, 64, kernel_size=(5,), stride=(1,), padding=(2,)), 41,024 params\n",
      "      ), 82,112 params\n",
      "    ), 115,090 params\n",
      "    (1): ConvBlock(\n",
      "      (norm1): LayerNorm((64,), eps=1e-05, elementwise_affine=True), 128 params\n",
      "      (SpatioBlock): Sequential(\n",
      "        (0): Conv1d(10, 32, kernel_size=(51,), stride=(1,), padding=(25,)), 16,352 params\n",
      "        (1): ReLU(), 0 params\n",
      "        (2): Dropout(p=0.1, inplace=False), 0 params\n",
      "        (3): Conv1d(32, 10, kernel_size=(51,), stride=(1,), padding=(25,)), 16,330 params\n",
      "      ), 32,682 params\n",
      "      (se): SELayer(\n",
      "        (squeeze): AdaptiveAvgPool1d(output_size=1), 0 params\n",
      "        (excitation): Sequential(\n",
      "          (0): Linear(in_features=10, out_features=2, bias=False), 20 params\n",
      "          (1): ReLU(inplace=True), 0 params\n",
      "          (2): Linear(in_features=2, out_features=10, bias=False), 20 params\n",
      "          (3): Sigmoid(), 0 params\n",
      "        ), 40 params\n",
      "      ), 40 params\n",
      "      (norm2): LayerNorm((64,), eps=1e-05, elementwise_affine=True), 128 params\n",
      "      (TemporalBlock): Sequential(\n",
      "        (0): Conv1d(64, 128, kernel_size=(5,), stride=(1,), padding=(2,)), 41,088 params\n",
      "        (1): ReLU(), 0 params\n",
      "        (2): Dropout(p=0.1, inplace=False), 0 params\n",
      "        (3): Conv1d(128, 64, kernel_size=(5,), stride=(1,), padding=(2,)), 41,024 params\n",
      "      ), 82,112 params\n",
      "    ), 115,090 params\n",
      "    (2): ConvBlock(\n",
      "      (norm1): LayerNorm((64,), eps=1e-05, elementwise_affine=True), 128 params\n",
      "      (SpatioBlock): Sequential(\n",
      "        (0): Conv1d(10, 32, kernel_size=(51,), stride=(1,), padding=(25,)), 16,352 params\n",
      "        (1): ReLU(), 0 params\n",
      "        (2): Dropout(p=0.1, inplace=False), 0 params\n",
      "        (3): Conv1d(32, 10, kernel_size=(51,), stride=(1,), padding=(25,)), 16,330 params\n",
      "      ), 32,682 params\n",
      "      (se): SELayer(\n",
      "        (squeeze): AdaptiveAvgPool1d(output_size=1), 0 params\n",
      "        (excitation): Sequential(\n",
      "          (0): Linear(in_features=10, out_features=2, bias=False), 20 params\n",
      "          (1): ReLU(inplace=True), 0 params\n",
      "          (2): Linear(in_features=2, out_features=10, bias=False), 20 params\n",
      "          (3): Sigmoid(), 0 params\n",
      "        ), 40 params\n",
      "      ), 40 params\n",
      "      (norm2): LayerNorm((64,), eps=1e-05, elementwise_affine=True), 128 params\n",
      "      (TemporalBlock): Sequential(\n",
      "        (0): Conv1d(64, 128, kernel_size=(5,), stride=(1,), padding=(2,)), 41,088 params\n",
      "        (1): ReLU(), 0 params\n",
      "        (2): Dropout(p=0.1, inplace=False), 0 params\n",
      "        (3): Conv1d(128, 64, kernel_size=(5,), stride=(1,), padding=(2,)), 41,024 params\n",
      "      ), 82,112 params\n",
      "    ), 115,090 params\n",
      "    (3): ConvBlock(\n",
      "      (norm1): LayerNorm((64,), eps=1e-05, elementwise_affine=True), 128 params\n",
      "      (SpatioBlock): Sequential(\n",
      "        (0): Conv1d(10, 32, kernel_size=(51,), stride=(1,), padding=(25,)), 16,352 params\n",
      "        (1): ReLU(), 0 params\n",
      "        (2): Dropout(p=0.1, inplace=False), 0 params\n",
      "        (3): Conv1d(32, 10, kernel_size=(51,), stride=(1,), padding=(25,)), 16,330 params\n",
      "      ), 32,682 params\n",
      "      (se): SELayer(\n",
      "        (squeeze): AdaptiveAvgPool1d(output_size=1), 0 params\n",
      "        (excitation): Sequential(\n",
      "          (0): Linear(in_features=10, out_features=2, bias=False), 20 params\n",
      "          (1): ReLU(inplace=True), 0 params\n",
      "          (2): Linear(in_features=2, out_features=10, bias=False), 20 params\n",
      "          (3): Sigmoid(), 0 params\n",
      "        ), 40 params\n",
      "      ), 40 params\n",
      "      (norm2): LayerNorm((64,), eps=1e-05, elementwise_affine=True), 128 params\n",
      "      (TemporalBlock): Sequential(\n",
      "        (0): Conv1d(64, 128, kernel_size=(5,), stride=(1,), padding=(2,)), 41,088 params\n",
      "        (1): ReLU(), 0 params\n",
      "        (2): Dropout(p=0.1, inplace=False), 0 params\n",
      "        (3): Conv1d(128, 64, kernel_size=(5,), stride=(1,), padding=(2,)), 41,024 params\n",
      "      ), 82,112 params\n",
      "    ), 115,090 params\n",
      "    (4): ConvBlock(\n",
      "      (norm1): LayerNorm((64,), eps=1e-05, elementwise_affine=True), 128 params\n",
      "      (SpatioBlock): Sequential(\n",
      "        (0): Conv1d(10, 32, kernel_size=(51,), stride=(1,), padding=(25,)), 16,352 params\n",
      "        (1): ReLU(), 0 params\n",
      "        (2): Dropout(p=0.1, inplace=False), 0 params\n",
      "        (3): Conv1d(32, 10, kernel_size=(51,), stride=(1,), padding=(25,)), 16,330 params\n",
      "      ), 32,682 params\n",
      "      (se): SELayer(\n",
      "        (squeeze): AdaptiveAvgPool1d(output_size=1), 0 params\n",
      "        (excitation): Sequential(\n",
      "          (0): Linear(in_features=10, out_features=2, bias=False), 20 params\n",
      "          (1): ReLU(inplace=True), 0 params\n",
      "          (2): Linear(in_features=2, out_features=10, bias=False), 20 params\n",
      "          (3): Sigmoid(), 0 params\n",
      "        ), 40 params\n",
      "      ), 40 params\n",
      "      (norm2): LayerNorm((64,), eps=1e-05, elementwise_affine=True), 128 params\n",
      "      (TemporalBlock): Sequential(\n",
      "        (0): Conv1d(64, 128, kernel_size=(5,), stride=(1,), padding=(2,)), 41,088 params\n",
      "        (1): ReLU(), 0 params\n",
      "        (2): Dropout(p=0.1, inplace=False), 0 params\n",
      "        (3): Conv1d(128, 64, kernel_size=(5,), stride=(1,), padding=(2,)), 41,024 params\n",
      "      ), 82,112 params\n",
      "    ), 115,090 params\n",
      "  ), 575,450 params\n",
      "  (decoder): Sequential(\n",
      "    (0): Conv1d(10, 10, kernel_size=(1,), stride=(1,)), 110 params\n",
      "    (1): Linear(in_features=64, out_features=51, bias=True), 3,315 params\n",
      "  ), 3,425 params\n",
      "), 582,203 params\n",
      "\n",
      "\n",
      "==========================================================================================\n",
      "\n"
     ]
    }
   ],
   "source": [
    "model_1d_long = Model(kernel_type=0, kernel_x=input_size, kernel_y=5, num_layers=5, hidden_dim=64,\n",
    "                 input_size=input_size, seq_len=seq_len, pred_len=pred_len, time_hid=32, joints_hid=128).to(device)\n",
    "model_1d_long.load_state_dict(torch.load(\"runs/1d_long\\model.pt\"))\n",
    "print(summary(model_1d_long.to('cpu'), torch.zeros((batch_size, seq_len, input_size)), show_hierarchical=True))"
   ]
  },
  {
   "cell_type": "markdown",
   "id": "520ed3a1",
   "metadata": {},
   "source": [
    "## Test and visualize"
   ]
  },
  {
   "cell_type": "code",
   "execution_count": 10,
   "id": "dbebfdcc",
   "metadata": {
    "scrolled": true
   },
   "outputs": [
    {
     "name": "stdout",
     "output_type": "stream",
     "text": [
      "Train loss: 0.034228477627038956\n",
      "Valid loss: 0.04928528144955635\n",
      "Extra loss: 0.15251636505126953\n"
     ]
    }
   ],
   "source": [
    "train_loss, test_loss, extra_loss, train_seq, test_seq, extra_seq = test(model=model_1d_long.to(device), \n",
    "train_loader=train_loader, test_loader=test_loader, extra_loader=extra_loader, dev=device, input_n=seq_len, output_n=pred_len)\n",
    "print(\"Train loss:\", train_loss)\n",
    "print(\"Valid loss:\", test_loss)\n",
    "print(\"Extra loss:\", extra_loss)"
   ]
  },
  {
   "cell_type": "markdown",
   "id": "5ab520df",
   "metadata": {},
   "source": [
    "# Fine-tune the model  in autoregressive mode"
   ]
  },
  {
   "cell_type": "code",
   "execution_count": 17,
   "id": "47342b62",
   "metadata": {
    "scrolled": true
   },
   "outputs": [
    {
     "name": "stdout",
     "output_type": "stream",
     "text": [
      "-----------------------------------------------------------------------\n",
      "      Layer (type)        Output Shape         Param #     Tr. Param #\n",
      "=======================================================================\n",
      "          Linear-1        [64, 10, 64]           3,328           3,328\n",
      "       ConvBlock-2        [64, 10, 64]          54,162          54,162\n",
      "       ConvBlock-3        [64, 10, 64]          54,162          54,162\n",
      "       ConvBlock-4        [64, 10, 64]          54,162          54,162\n",
      "       ConvBlock-5        [64, 10, 64]          54,162          54,162\n",
      "       ConvBlock-6        [64, 10, 64]          54,162          54,162\n",
      "          Conv1d-7        [64, 10, 64]             110             110\n",
      "          Linear-8        [64, 10, 51]           3,315           3,315\n",
      "=======================================================================\n",
      "Total params: 277,563\n",
      "Trainable params: 277,563\n",
      "Non-trainable params: 0\n",
      "-----------------------------------------------------------------------\n",
      "\n",
      "\n",
      "================================== Hierarchical Summary ==================================\n",
      "\n",
      "Model(\n",
      "  (encoder): Linear(in_features=51, out_features=64, bias=True), 3,328 params\n",
      "  (conv_blocks): Sequential(\n",
      "    (0): ConvBlock(\n",
      "      (norm1): LayerNorm((64,), eps=1e-05, elementwise_affine=True), 128 params\n",
      "      (SpatioBlock): Sequential(\n",
      "        (0): Conv1d(10, 32, kernel_size=(7,), stride=(1,), padding=(3,)), 2,272 params\n",
      "        (1): ReLU(), 0 params\n",
      "        (2): Dropout(p=0.1, inplace=False), 0 params\n",
      "        (3): Conv1d(32, 10, kernel_size=(7,), stride=(1,), padding=(3,)), 2,250 params\n",
      "      ), 4,522 params\n",
      "      (se): SELayer(\n",
      "        (squeeze): AdaptiveAvgPool1d(output_size=1), 0 params\n",
      "        (excitation): Sequential(\n",
      "          (0): Linear(in_features=10, out_features=2, bias=False), 20 params\n",
      "          (1): ReLU(inplace=True), 0 params\n",
      "          (2): Linear(in_features=2, out_features=10, bias=False), 20 params\n",
      "          (3): Sigmoid(), 0 params\n",
      "        ), 40 params\n",
      "      ), 40 params\n",
      "      (norm2): LayerNorm((64,), eps=1e-05, elementwise_affine=True), 128 params\n",
      "      (TemporalBlock): Sequential(\n",
      "        (0): Conv1d(64, 128, kernel_size=(3,), stride=(1,), padding=(1,)), 24,704 params\n",
      "        (1): ReLU(), 0 params\n",
      "        (2): Dropout(p=0.1, inplace=False), 0 params\n",
      "        (3): Conv1d(128, 64, kernel_size=(3,), stride=(1,), padding=(1,)), 24,640 params\n",
      "      ), 49,344 params\n",
      "    ), 54,162 params\n",
      "    (1): ConvBlock(\n",
      "      (norm1): LayerNorm((64,), eps=1e-05, elementwise_affine=True), 128 params\n",
      "      (SpatioBlock): Sequential(\n",
      "        (0): Conv1d(10, 32, kernel_size=(7,), stride=(1,), padding=(3,)), 2,272 params\n",
      "        (1): ReLU(), 0 params\n",
      "        (2): Dropout(p=0.1, inplace=False), 0 params\n",
      "        (3): Conv1d(32, 10, kernel_size=(7,), stride=(1,), padding=(3,)), 2,250 params\n",
      "      ), 4,522 params\n",
      "      (se): SELayer(\n",
      "        (squeeze): AdaptiveAvgPool1d(output_size=1), 0 params\n",
      "        (excitation): Sequential(\n",
      "          (0): Linear(in_features=10, out_features=2, bias=False), 20 params\n",
      "          (1): ReLU(inplace=True), 0 params\n",
      "          (2): Linear(in_features=2, out_features=10, bias=False), 20 params\n",
      "          (3): Sigmoid(), 0 params\n",
      "        ), 40 params\n",
      "      ), 40 params\n",
      "      (norm2): LayerNorm((64,), eps=1e-05, elementwise_affine=True), 128 params\n",
      "      (TemporalBlock): Sequential(\n",
      "        (0): Conv1d(64, 128, kernel_size=(3,), stride=(1,), padding=(1,)), 24,704 params\n",
      "        (1): ReLU(), 0 params\n",
      "        (2): Dropout(p=0.1, inplace=False), 0 params\n",
      "        (3): Conv1d(128, 64, kernel_size=(3,), stride=(1,), padding=(1,)), 24,640 params\n",
      "      ), 49,344 params\n",
      "    ), 54,162 params\n",
      "    (2): ConvBlock(\n",
      "      (norm1): LayerNorm((64,), eps=1e-05, elementwise_affine=True), 128 params\n",
      "      (SpatioBlock): Sequential(\n",
      "        (0): Conv1d(10, 32, kernel_size=(7,), stride=(1,), padding=(3,)), 2,272 params\n",
      "        (1): ReLU(), 0 params\n",
      "        (2): Dropout(p=0.1, inplace=False), 0 params\n",
      "        (3): Conv1d(32, 10, kernel_size=(7,), stride=(1,), padding=(3,)), 2,250 params\n",
      "      ), 4,522 params\n",
      "      (se): SELayer(\n",
      "        (squeeze): AdaptiveAvgPool1d(output_size=1), 0 params\n",
      "        (excitation): Sequential(\n",
      "          (0): Linear(in_features=10, out_features=2, bias=False), 20 params\n",
      "          (1): ReLU(inplace=True), 0 params\n",
      "          (2): Linear(in_features=2, out_features=10, bias=False), 20 params\n",
      "          (3): Sigmoid(), 0 params\n",
      "        ), 40 params\n",
      "      ), 40 params\n",
      "      (norm2): LayerNorm((64,), eps=1e-05, elementwise_affine=True), 128 params\n",
      "      (TemporalBlock): Sequential(\n",
      "        (0): Conv1d(64, 128, kernel_size=(3,), stride=(1,), padding=(1,)), 24,704 params\n",
      "        (1): ReLU(), 0 params\n",
      "        (2): Dropout(p=0.1, inplace=False), 0 params\n",
      "        (3): Conv1d(128, 64, kernel_size=(3,), stride=(1,), padding=(1,)), 24,640 params\n",
      "      ), 49,344 params\n",
      "    ), 54,162 params\n",
      "    (3): ConvBlock(\n",
      "      (norm1): LayerNorm((64,), eps=1e-05, elementwise_affine=True), 128 params\n",
      "      (SpatioBlock): Sequential(\n",
      "        (0): Conv1d(10, 32, kernel_size=(7,), stride=(1,), padding=(3,)), 2,272 params\n",
      "        (1): ReLU(), 0 params\n",
      "        (2): Dropout(p=0.1, inplace=False), 0 params\n",
      "        (3): Conv1d(32, 10, kernel_size=(7,), stride=(1,), padding=(3,)), 2,250 params\n",
      "      ), 4,522 params\n",
      "      (se): SELayer(\n",
      "        (squeeze): AdaptiveAvgPool1d(output_size=1), 0 params\n",
      "        (excitation): Sequential(\n",
      "          (0): Linear(in_features=10, out_features=2, bias=False), 20 params\n",
      "          (1): ReLU(inplace=True), 0 params\n",
      "          (2): Linear(in_features=2, out_features=10, bias=False), 20 params\n",
      "          (3): Sigmoid(), 0 params\n",
      "        ), 40 params\n",
      "      ), 40 params\n",
      "      (norm2): LayerNorm((64,), eps=1e-05, elementwise_affine=True), 128 params\n",
      "      (TemporalBlock): Sequential(\n",
      "        (0): Conv1d(64, 128, kernel_size=(3,), stride=(1,), padding=(1,)), 24,704 params\n",
      "        (1): ReLU(), 0 params\n",
      "        (2): Dropout(p=0.1, inplace=False), 0 params\n",
      "        (3): Conv1d(128, 64, kernel_size=(3,), stride=(1,), padding=(1,)), 24,640 params\n",
      "      ), 49,344 params\n",
      "    ), 54,162 params\n",
      "    (4): ConvBlock(\n",
      "      (norm1): LayerNorm((64,), eps=1e-05, elementwise_affine=True), 128 params\n",
      "      (SpatioBlock): Sequential(\n",
      "        (0): Conv1d(10, 32, kernel_size=(7,), stride=(1,), padding=(3,)), 2,272 params\n",
      "        (1): ReLU(), 0 params\n",
      "        (2): Dropout(p=0.1, inplace=False), 0 params\n",
      "        (3): Conv1d(32, 10, kernel_size=(7,), stride=(1,), padding=(3,)), 2,250 params\n",
      "      ), 4,522 params\n",
      "      (se): SELayer(\n",
      "        (squeeze): AdaptiveAvgPool1d(output_size=1), 0 params\n",
      "        (excitation): Sequential(\n",
      "          (0): Linear(in_features=10, out_features=2, bias=False), 20 params\n",
      "          (1): ReLU(inplace=True), 0 params\n",
      "          (2): Linear(in_features=2, out_features=10, bias=False), 20 params\n",
      "          (3): Sigmoid(), 0 params\n",
      "        ), 40 params\n",
      "      ), 40 params\n",
      "      (norm2): LayerNorm((64,), eps=1e-05, elementwise_affine=True), 128 params\n",
      "      (TemporalBlock): Sequential(\n",
      "        (0): Conv1d(64, 128, kernel_size=(3,), stride=(1,), padding=(1,)), 24,704 params\n",
      "        (1): ReLU(), 0 params\n",
      "        (2): Dropout(p=0.1, inplace=False), 0 params\n",
      "        (3): Conv1d(128, 64, kernel_size=(3,), stride=(1,), padding=(1,)), 24,640 params\n",
      "      ), 49,344 params\n",
      "    ), 54,162 params\n",
      "  ), 270,810 params\n",
      "  (decoder): Sequential(\n",
      "    (0): Conv1d(10, 10, kernel_size=(1,), stride=(1,)), 110 params\n",
      "    (1): Linear(in_features=64, out_features=51, bias=True), 3,315 params\n",
      "  ), 3,425 params\n",
      "), 277,563 params\n",
      "\n",
      "\n",
      "==========================================================================================\n",
      "\n"
     ]
    }
   ],
   "source": [
    "model_1d_tune = Model(kernel_type=0, kernel_x=7, kernel_y=3, num_layers=5, hidden_dim=64,\n",
    "                 input_size=input_size, seq_len=seq_len, pred_len=pred_len, time_hid=32, joints_hid=128).to(device)\n",
    "model_1d_tune.load_state_dict(torch.load(\"runs/1d\\model.pt\"))\n",
    "print(summary(model_1d_tune.to('cpu'), torch.zeros((batch_size, seq_len, input_size)), show_hierarchical=True))"
   ]
  },
  {
   "cell_type": "markdown",
   "id": "c32588e5",
   "metadata": {},
   "source": [
    "## Train model"
   ]
  },
  {
   "cell_type": "code",
   "execution_count": 19,
   "id": "5abb971e",
   "metadata": {},
   "outputs": [
    {
     "name": "stdout",
     "output_type": "stream",
     "text": [
      "Save data of the run in: ./runs\\exp7\n",
      "Run epoch: 0\n"
     ]
    },
    {
     "name": "stderr",
     "output_type": "stream",
     "text": [
      "100%|██████████████████████████████████████████████████████████████████████████████| 2847/2847 [12:52<00:00,  3.69it/s]\n"
     ]
    },
    {
     "name": "stdout",
     "output_type": "stream",
     "text": [
      "Run epoch: 1\n"
     ]
    },
    {
     "name": "stderr",
     "output_type": "stream",
     "text": [
      "100%|██████████████████████████████████████████████████████████████████████████████| 2847/2847 [14:59<00:00,  3.17it/s]\n"
     ]
    },
    {
     "name": "stdout",
     "output_type": "stream",
     "text": [
      "Run epoch: 2\n"
     ]
    },
    {
     "name": "stderr",
     "output_type": "stream",
     "text": [
      "100%|██████████████████████████████████████████████████████████████████████████████| 2847/2847 [16:58<00:00,  2.80it/s]\n"
     ]
    },
    {
     "name": "stdout",
     "output_type": "stream",
     "text": [
      "Run epoch: 3\n"
     ]
    },
    {
     "name": "stderr",
     "output_type": "stream",
     "text": [
      "100%|██████████████████████████████████████████████████████████████████████████████| 2847/2847 [16:36<00:00,  2.86it/s]\n"
     ]
    },
    {
     "name": "stdout",
     "output_type": "stream",
     "text": [
      "Run epoch: 4\n"
     ]
    },
    {
     "name": "stderr",
     "output_type": "stream",
     "text": [
      "100%|██████████████████████████████████████████████████████████████████████████████| 2847/2847 [18:37<00:00,  2.55it/s]\n"
     ]
    },
    {
     "name": "stdout",
     "output_type": "stream",
     "text": [
      "Run epoch: 5\n"
     ]
    },
    {
     "name": "stderr",
     "output_type": "stream",
     "text": [
      "100%|██████████████████████████████████████████████████████████████████████████████| 2847/2847 [21:52<00:00,  2.17it/s]\n"
     ]
    },
    {
     "name": "stdout",
     "output_type": "stream",
     "text": [
      "Run epoch: 6\n"
     ]
    },
    {
     "name": "stderr",
     "output_type": "stream",
     "text": [
      "100%|██████████████████████████████████████████████████████████████████████████████| 2847/2847 [22:00<00:00,  2.16it/s]\n"
     ]
    },
    {
     "name": "stdout",
     "output_type": "stream",
     "text": [
      "Epoch 00007: reducing learning rate of group 0 to 3.0000e-04.\n",
      "Run epoch: 7\n"
     ]
    },
    {
     "name": "stderr",
     "output_type": "stream",
     "text": [
      "100%|██████████████████████████████████████████████████████████████████████████████| 2847/2847 [21:58<00:00,  2.16it/s]\n"
     ]
    },
    {
     "name": "stdout",
     "output_type": "stream",
     "text": [
      "Run epoch: 8\n"
     ]
    },
    {
     "name": "stderr",
     "output_type": "stream",
     "text": [
      "100%|██████████████████████████████████████████████████████████████████████████████| 2847/2847 [22:27<00:00,  2.11it/s]\n"
     ]
    },
    {
     "name": "stdout",
     "output_type": "stream",
     "text": [
      "Run epoch: 9\n"
     ]
    },
    {
     "name": "stderr",
     "output_type": "stream",
     "text": [
      "100%|██████████████████████████████████████████████████████████████████████████████| 2847/2847 [24:18<00:00,  1.95it/s]\n"
     ]
    }
   ],
   "source": [
    "train(model_1d_tune.to(device), train_loader, test_loader, device, lr=lr, n_epochs=10, root='./runs', \n",
    "      input_n=seq_len, output_n=pred_len, autoreg=True)"
   ]
  },
  {
   "cell_type": "markdown",
   "id": "fff18323",
   "metadata": {},
   "source": [
    "# Reusing model with 1d convolution for longer prediction using sequence-to-sequence prediction"
   ]
  },
  {
   "cell_type": "code",
   "execution_count": 12,
   "id": "fca884b2",
   "metadata": {},
   "outputs": [
    {
     "name": "stdout",
     "output_type": "stream",
     "text": [
      "Reading preprocessed subject 1, action walking, subaction 1\n",
      "Reading preprocessed subject 1, action walking, subaction 2\n",
      "Reading preprocessed subject 1, action eating, subaction 1\n",
      "Reading preprocessed subject 1, action eating, subaction 2\n",
      "Reading preprocessed subject 1, action smoking, subaction 1\n",
      "Reading preprocessed subject 1, action smoking, subaction 2\n",
      "Reading preprocessed subject 1, action discussion, subaction 1\n",
      "Reading preprocessed subject 1, action discussion, subaction 2\n",
      "Reading preprocessed subject 1, action directions, subaction 1\n",
      "Reading preprocessed subject 1, action directions, subaction 2\n",
      "Reading preprocessed subject 1, action greeting, subaction 1\n",
      "Reading preprocessed subject 1, action greeting, subaction 2\n",
      "Reading preprocessed subject 1, action phoning, subaction 1\n",
      "Reading preprocessed subject 1, action phoning, subaction 2\n",
      "Reading preprocessed subject 1, action posing, subaction 1\n",
      "Reading preprocessed subject 1, action posing, subaction 2\n",
      "Reading preprocessed subject 1, action purchases, subaction 1\n",
      "Reading preprocessed subject 1, action purchases, subaction 2\n",
      "Reading preprocessed subject 1, action sitting, subaction 1\n",
      "Reading preprocessed subject 1, action sitting, subaction 2\n",
      "Reading preprocessed subject 1, action sittingdown, subaction 1\n",
      "Reading preprocessed subject 1, action sittingdown, subaction 2\n",
      "Reading preprocessed subject 1, action takingphoto, subaction 1\n",
      "Reading preprocessed subject 1, action takingphoto, subaction 2\n",
      "Reading preprocessed subject 1, action waiting, subaction 1\n",
      "Reading preprocessed subject 1, action waiting, subaction 2\n",
      "Reading preprocessed subject 1, action walkingdog, subaction 1\n",
      "Reading preprocessed subject 1, action walkingdog, subaction 2\n",
      "Reading preprocessed subject 1, action walkingtogether, subaction 1\n",
      "Reading preprocessed subject 1, action walkingtogether, subaction 2\n",
      "Reading preprocessed subject 6, action walking, subaction 1\n",
      "Reading preprocessed subject 6, action walking, subaction 2\n",
      "Reading preprocessed subject 6, action eating, subaction 1\n",
      "Reading preprocessed subject 6, action eating, subaction 2\n",
      "Reading preprocessed subject 6, action smoking, subaction 1\n",
      "Reading preprocessed subject 6, action smoking, subaction 2\n",
      "Reading preprocessed subject 6, action discussion, subaction 1\n",
      "Reading preprocessed subject 6, action discussion, subaction 2\n",
      "Reading preprocessed subject 6, action directions, subaction 1\n",
      "Reading preprocessed subject 6, action directions, subaction 2\n",
      "Reading preprocessed subject 6, action greeting, subaction 1\n",
      "Reading preprocessed subject 6, action greeting, subaction 2\n",
      "Reading preprocessed subject 6, action phoning, subaction 1\n",
      "Reading preprocessed subject 6, action phoning, subaction 2\n",
      "Reading preprocessed subject 6, action posing, subaction 1\n",
      "Reading preprocessed subject 6, action posing, subaction 2\n",
      "Reading preprocessed subject 6, action purchases, subaction 1\n",
      "Reading preprocessed subject 6, action purchases, subaction 2\n",
      "Reading preprocessed subject 6, action sitting, subaction 1\n",
      "Reading preprocessed subject 6, action sitting, subaction 2\n",
      "Reading preprocessed subject 6, action sittingdown, subaction 1\n",
      "Reading preprocessed subject 6, action sittingdown, subaction 2\n",
      "Reading preprocessed subject 6, action takingphoto, subaction 1\n",
      "Reading preprocessed subject 6, action takingphoto, subaction 2\n",
      "Reading preprocessed subject 6, action waiting, subaction 1\n",
      "Reading preprocessed subject 6, action waiting, subaction 2\n",
      "Reading preprocessed subject 6, action walkingdog, subaction 1\n",
      "Reading preprocessed subject 6, action walkingdog, subaction 2\n",
      "Reading preprocessed subject 6, action walkingtogether, subaction 1\n",
      "Reading preprocessed subject 6, action walkingtogether, subaction 2\n",
      "Reading preprocessed subject 7, action walking, subaction 1\n",
      "Reading preprocessed subject 7, action walking, subaction 2\n",
      "Reading preprocessed subject 7, action eating, subaction 1\n",
      "Reading preprocessed subject 7, action eating, subaction 2\n",
      "Reading preprocessed subject 7, action smoking, subaction 1\n",
      "Reading preprocessed subject 7, action smoking, subaction 2\n",
      "Reading preprocessed subject 7, action discussion, subaction 1\n",
      "Reading preprocessed subject 7, action discussion, subaction 2\n",
      "Reading preprocessed subject 7, action directions, subaction 1\n",
      "Reading preprocessed subject 7, action directions, subaction 2\n",
      "Reading preprocessed subject 7, action greeting, subaction 1\n",
      "Reading preprocessed subject 7, action greeting, subaction 2\n",
      "Reading preprocessed subject 7, action phoning, subaction 1\n",
      "Reading preprocessed subject 7, action phoning, subaction 2\n",
      "Reading preprocessed subject 7, action posing, subaction 1\n",
      "Reading preprocessed subject 7, action posing, subaction 2\n",
      "Reading preprocessed subject 7, action purchases, subaction 1\n",
      "Reading preprocessed subject 7, action purchases, subaction 2\n",
      "Reading preprocessed subject 7, action sitting, subaction 1\n",
      "Reading preprocessed subject 7, action sitting, subaction 2\n",
      "Reading preprocessed subject 7, action sittingdown, subaction 1\n",
      "Reading preprocessed subject 7, action sittingdown, subaction 2\n",
      "Reading preprocessed subject 7, action takingphoto, subaction 1\n",
      "Reading preprocessed subject 7, action takingphoto, subaction 2\n",
      "Reading preprocessed subject 7, action waiting, subaction 1\n",
      "Reading preprocessed subject 7, action waiting, subaction 2\n",
      "Reading preprocessed subject 7, action walkingdog, subaction 1\n",
      "Reading preprocessed subject 7, action walkingdog, subaction 2\n",
      "Reading preprocessed subject 7, action walkingtogether, subaction 1\n",
      "Reading preprocessed subject 7, action walkingtogether, subaction 2\n",
      "Reading preprocessed subject 8, action walking, subaction 1\n",
      "Reading preprocessed subject 8, action walking, subaction 2\n",
      "Reading preprocessed subject 8, action eating, subaction 1\n",
      "Reading preprocessed subject 8, action eating, subaction 2\n",
      "Reading preprocessed subject 8, action smoking, subaction 1\n",
      "Reading preprocessed subject 8, action smoking, subaction 2\n",
      "Reading preprocessed subject 8, action discussion, subaction 1\n",
      "Reading preprocessed subject 8, action discussion, subaction 2\n",
      "Reading preprocessed subject 8, action directions, subaction 1\n",
      "Reading preprocessed subject 8, action directions, subaction 2\n",
      "Reading preprocessed subject 8, action greeting, subaction 1\n",
      "Reading preprocessed subject 8, action greeting, subaction 2\n",
      "Reading preprocessed subject 8, action phoning, subaction 1\n",
      "Reading preprocessed subject 8, action phoning, subaction 2\n",
      "Reading preprocessed subject 8, action posing, subaction 1\n",
      "Reading preprocessed subject 8, action posing, subaction 2\n",
      "Reading preprocessed subject 8, action purchases, subaction 1\n",
      "Reading preprocessed subject 8, action purchases, subaction 2\n",
      "Reading preprocessed subject 8, action sitting, subaction 1\n",
      "Reading preprocessed subject 8, action sitting, subaction 2\n",
      "Reading preprocessed subject 8, action sittingdown, subaction 1\n",
      "Reading preprocessed subject 8, action sittingdown, subaction 2\n",
      "Reading preprocessed subject 8, action takingphoto, subaction 1\n",
      "Reading preprocessed subject 8, action takingphoto, subaction 2\n",
      "Reading preprocessed subject 8, action waiting, subaction 1\n",
      "Reading preprocessed subject 8, action waiting, subaction 2\n",
      "Reading preprocessed subject 8, action walkingdog, subaction 1\n",
      "Reading preprocessed subject 8, action walkingdog, subaction 2\n",
      "Reading preprocessed subject 8, action walkingtogether, subaction 1\n",
      "Reading preprocessed subject 8, action walkingtogether, subaction 2\n",
      "Reading preprocessed subject 9, action walking, subaction 1\n",
      "Reading preprocessed subject 9, action walking, subaction 2\n",
      "Reading preprocessed subject 9, action eating, subaction 1\n",
      "Reading preprocessed subject 9, action eating, subaction 2\n",
      "Reading preprocessed subject 9, action smoking, subaction 1\n",
      "Reading preprocessed subject 9, action smoking, subaction 2\n",
      "Reading preprocessed subject 9, action discussion, subaction 1\n",
      "Reading preprocessed subject 9, action discussion, subaction 2\n",
      "Reading preprocessed subject 9, action directions, subaction 1\n",
      "Reading preprocessed subject 9, action directions, subaction 2\n",
      "Reading preprocessed subject 9, action greeting, subaction 1\n",
      "Reading preprocessed subject 9, action greeting, subaction 2\n",
      "Reading preprocessed subject 9, action phoning, subaction 1\n",
      "Reading preprocessed subject 9, action phoning, subaction 2\n",
      "Reading preprocessed subject 9, action posing, subaction 1\n",
      "Reading preprocessed subject 9, action posing, subaction 2\n",
      "Reading preprocessed subject 9, action purchases, subaction 1\n",
      "Reading preprocessed subject 9, action purchases, subaction 2\n",
      "Reading preprocessed subject 9, action sitting, subaction 1\n",
      "Reading preprocessed subject 9, action sitting, subaction 2\n",
      "Reading preprocessed subject 9, action sittingdown, subaction 1\n",
      "Reading preprocessed subject 9, action sittingdown, subaction 2\n",
      "Reading preprocessed subject 9, action takingphoto, subaction 1\n",
      "Reading preprocessed subject 9, action takingphoto, subaction 2\n",
      "Reading preprocessed subject 9, action waiting, subaction 1\n",
      "Reading preprocessed subject 9, action waiting, subaction 2\n",
      "Reading preprocessed subject 9, action walkingdog, subaction 1\n",
      "Reading preprocessed subject 9, action walkingdog, subaction 2\n",
      "Reading preprocessed subject 9, action walkingtogether, subaction 1\n",
      "Reading preprocessed subject 9, action walkingtogether, subaction 2\n",
      "Reading preprocessed subject 11, action walking, subaction 1\n"
     ]
    },
    {
     "name": "stdout",
     "output_type": "stream",
     "text": [
      "Reading preprocessed subject 11, action walking, subaction 2\n",
      "Reading preprocessed subject 11, action eating, subaction 1\n",
      "Reading preprocessed subject 11, action eating, subaction 2\n",
      "Reading preprocessed subject 11, action smoking, subaction 1\n",
      "Reading preprocessed subject 11, action smoking, subaction 2\n",
      "Reading preprocessed subject 11, action discussion, subaction 1\n",
      "Reading preprocessed subject 11, action discussion, subaction 2\n",
      "Reading preprocessed subject 11, action directions, subaction 1\n",
      "Reading preprocessed subject 11, action directions, subaction 2\n",
      "Reading preprocessed subject 11, action greeting, subaction 1\n",
      "Reading preprocessed subject 11, action greeting, subaction 2\n",
      "Reading preprocessed subject 11, action phoning, subaction 1\n",
      "Reading preprocessed subject 11, action phoning, subaction 2\n",
      "Reading preprocessed subject 11, action posing, subaction 1\n",
      "Reading preprocessed subject 11, action posing, subaction 2\n",
      "Reading preprocessed subject 11, action purchases, subaction 1\n",
      "Reading preprocessed subject 11, action purchases, subaction 2\n",
      "Reading preprocessed subject 11, action sitting, subaction 1\n",
      "Reading preprocessed subject 11, action sitting, subaction 2\n",
      "Reading preprocessed subject 11, action sittingdown, subaction 1\n",
      "Reading preprocessed subject 11, action sittingdown, subaction 2\n",
      "Reading preprocessed subject 11, action takingphoto, subaction 1\n",
      "Reading preprocessed subject 11, action takingphoto, subaction 2\n",
      "Reading preprocessed subject 11, action waiting, subaction 1\n",
      "Reading preprocessed subject 11, action waiting, subaction 2\n",
      "Reading preprocessed subject 11, action walkingdog, subaction 1\n",
      "Reading preprocessed subject 11, action walkingdog, subaction 2\n",
      "Reading preprocessed subject 11, action walkingtogether, subaction 1\n",
      "Reading preprocessed subject 11, action walkingtogether, subaction 2\n",
      "Reading preprocessed subject 5, action walking, subaction 1\n",
      "Reading preprocessed subject 5, action walking, subaction 2\n",
      "Reading preprocessed subject 5, action eating, subaction 1\n",
      "Reading preprocessed subject 5, action eating, subaction 2\n",
      "Reading preprocessed subject 5, action smoking, subaction 1\n",
      "Reading preprocessed subject 5, action smoking, subaction 2\n",
      "Reading preprocessed subject 5, action discussion, subaction 1\n",
      "Reading preprocessed subject 5, action discussion, subaction 2\n",
      "Reading preprocessed subject 5, action directions, subaction 1\n",
      "Reading preprocessed subject 5, action directions, subaction 2\n",
      "Reading preprocessed subject 5, action greeting, subaction 1\n",
      "Reading preprocessed subject 5, action greeting, subaction 2\n",
      "Reading preprocessed subject 5, action phoning, subaction 1\n",
      "Reading preprocessed subject 5, action phoning, subaction 2\n",
      "Reading preprocessed subject 5, action posing, subaction 1\n",
      "Reading preprocessed subject 5, action posing, subaction 2\n",
      "Reading preprocessed subject 5, action purchases, subaction 1\n",
      "Reading preprocessed subject 5, action purchases, subaction 2\n",
      "Reading preprocessed subject 5, action sitting, subaction 1\n",
      "Reading preprocessed subject 5, action sitting, subaction 2\n",
      "Reading preprocessed subject 5, action sittingdown, subaction 1\n",
      "Reading preprocessed subject 5, action sittingdown, subaction 2\n",
      "Reading preprocessed subject 5, action takingphoto, subaction 1\n",
      "Reading preprocessed subject 5, action takingphoto, subaction 2\n",
      "Reading preprocessed subject 5, action waiting, subaction 1\n",
      "Reading preprocessed subject 5, action waiting, subaction 2\n",
      "Reading preprocessed subject 5, action walkingdog, subaction 1\n",
      "Reading preprocessed subject 5, action walkingdog, subaction 2\n",
      "Reading preprocessed subject 5, action walkingtogether, subaction 1\n",
      "Reading preprocessed subject 5, action walkingtogether, subaction 2\n",
      "Reading preprocessed file D:\\project/preprocessed/extra/2021-08-04-singlePerson_000.txt\n",
      "Reading preprocessed file D:\\project/preprocessed/extra/2021-08-04-singlePerson_001.txt\n",
      "Reading preprocessed file D:\\project/preprocessed/extra/2021-08-04-singlePerson_002.txt\n",
      "Reading preprocessed file D:\\project/preprocessed/extra/2021-08-04-singlePerson_003.txt\n"
     ]
    }
   ],
   "source": [
    "dataset_h36m_train_25 = Unit_Vector_Skeleton_Dataset(input_n=seq_len, output_n=25, split=0)\n",
    "dataset_h36m_test_25 = Unit_Vector_Skeleton_Dataset(input_n=seq_len, output_n=25, split=1)\n",
    "dataset_extra_25 = Unit_Vector_Skeleton_Dataset(input_n=seq_len, output_n=25, split=2)"
   ]
  },
  {
   "cell_type": "code",
   "execution_count": 13,
   "id": "11630ba7",
   "metadata": {},
   "outputs": [],
   "source": [
    "train_loader_25 = DataLoader(dataset_h36m_train_25, batch_size=batch_size, shuffle=True, pin_memory=True, drop_last=True)\n",
    "test_loader_25 = DataLoader(dataset_h36m_test_25, batch_size=batch_size, shuffle=True, pin_memory=True, drop_last=True)\n",
    "extra_loader_25 = DataLoader(dataset_extra_25, batch_size=batch_size, shuffle=True, pin_memory=True, drop_last=True)"
   ]
  },
  {
   "cell_type": "markdown",
   "id": "57bc6104",
   "metadata": {},
   "source": [
    "## Load saved model"
   ]
  },
  {
   "cell_type": "code",
   "execution_count": 15,
   "id": "70d6820e",
   "metadata": {},
   "outputs": [
    {
     "name": "stdout",
     "output_type": "stream",
     "text": [
      "-----------------------------------------------------------------------\n",
      "      Layer (type)        Output Shape         Param #     Tr. Param #\n",
      "=======================================================================\n",
      "          Linear-1        [64, 10, 64]           3,328           3,328\n",
      "       ConvBlock-2        [64, 10, 64]          54,162          54,162\n",
      "       ConvBlock-3        [64, 10, 64]          54,162          54,162\n",
      "       ConvBlock-4        [64, 10, 64]          54,162          54,162\n",
      "       ConvBlock-5        [64, 10, 64]          54,162          54,162\n",
      "       ConvBlock-6        [64, 10, 64]          54,162          54,162\n",
      "          Conv1d-7        [64, 10, 64]             110             110\n",
      "          Linear-8        [64, 10, 51]           3,315           3,315\n",
      "=======================================================================\n",
      "Total params: 277,563\n",
      "Trainable params: 277,563\n",
      "Non-trainable params: 0\n",
      "-----------------------------------------------------------------------\n",
      "\n",
      "\n",
      "================================== Hierarchical Summary ==================================\n",
      "\n",
      "Model(\n",
      "  (encoder): Linear(in_features=51, out_features=64, bias=True), 3,328 params\n",
      "  (conv_blocks): Sequential(\n",
      "    (0): ConvBlock(\n",
      "      (norm1): LayerNorm((64,), eps=1e-05, elementwise_affine=True), 128 params\n",
      "      (SpatioBlock): Sequential(\n",
      "        (0): Conv1d(10, 32, kernel_size=(7,), stride=(1,), padding=(3,)), 2,272 params\n",
      "        (1): ReLU(), 0 params\n",
      "        (2): Dropout(p=0.1, inplace=False), 0 params\n",
      "        (3): Conv1d(32, 10, kernel_size=(7,), stride=(1,), padding=(3,)), 2,250 params\n",
      "      ), 4,522 params\n",
      "      (se): SELayer(\n",
      "        (squeeze): AdaptiveAvgPool1d(output_size=1), 0 params\n",
      "        (excitation): Sequential(\n",
      "          (0): Linear(in_features=10, out_features=2, bias=False), 20 params\n",
      "          (1): ReLU(inplace=True), 0 params\n",
      "          (2): Linear(in_features=2, out_features=10, bias=False), 20 params\n",
      "          (3): Sigmoid(), 0 params\n",
      "        ), 40 params\n",
      "      ), 40 params\n",
      "      (norm2): LayerNorm((64,), eps=1e-05, elementwise_affine=True), 128 params\n",
      "      (TemporalBlock): Sequential(\n",
      "        (0): Conv1d(64, 128, kernel_size=(3,), stride=(1,), padding=(1,)), 24,704 params\n",
      "        (1): ReLU(), 0 params\n",
      "        (2): Dropout(p=0.1, inplace=False), 0 params\n",
      "        (3): Conv1d(128, 64, kernel_size=(3,), stride=(1,), padding=(1,)), 24,640 params\n",
      "      ), 49,344 params\n",
      "    ), 54,162 params\n",
      "    (1): ConvBlock(\n",
      "      (norm1): LayerNorm((64,), eps=1e-05, elementwise_affine=True), 128 params\n",
      "      (SpatioBlock): Sequential(\n",
      "        (0): Conv1d(10, 32, kernel_size=(7,), stride=(1,), padding=(3,)), 2,272 params\n",
      "        (1): ReLU(), 0 params\n",
      "        (2): Dropout(p=0.1, inplace=False), 0 params\n",
      "        (3): Conv1d(32, 10, kernel_size=(7,), stride=(1,), padding=(3,)), 2,250 params\n",
      "      ), 4,522 params\n",
      "      (se): SELayer(\n",
      "        (squeeze): AdaptiveAvgPool1d(output_size=1), 0 params\n",
      "        (excitation): Sequential(\n",
      "          (0): Linear(in_features=10, out_features=2, bias=False), 20 params\n",
      "          (1): ReLU(inplace=True), 0 params\n",
      "          (2): Linear(in_features=2, out_features=10, bias=False), 20 params\n",
      "          (3): Sigmoid(), 0 params\n",
      "        ), 40 params\n",
      "      ), 40 params\n",
      "      (norm2): LayerNorm((64,), eps=1e-05, elementwise_affine=True), 128 params\n",
      "      (TemporalBlock): Sequential(\n",
      "        (0): Conv1d(64, 128, kernel_size=(3,), stride=(1,), padding=(1,)), 24,704 params\n",
      "        (1): ReLU(), 0 params\n",
      "        (2): Dropout(p=0.1, inplace=False), 0 params\n",
      "        (3): Conv1d(128, 64, kernel_size=(3,), stride=(1,), padding=(1,)), 24,640 params\n",
      "      ), 49,344 params\n",
      "    ), 54,162 params\n",
      "    (2): ConvBlock(\n",
      "      (norm1): LayerNorm((64,), eps=1e-05, elementwise_affine=True), 128 params\n",
      "      (SpatioBlock): Sequential(\n",
      "        (0): Conv1d(10, 32, kernel_size=(7,), stride=(1,), padding=(3,)), 2,272 params\n",
      "        (1): ReLU(), 0 params\n",
      "        (2): Dropout(p=0.1, inplace=False), 0 params\n",
      "        (3): Conv1d(32, 10, kernel_size=(7,), stride=(1,), padding=(3,)), 2,250 params\n",
      "      ), 4,522 params\n",
      "      (se): SELayer(\n",
      "        (squeeze): AdaptiveAvgPool1d(output_size=1), 0 params\n",
      "        (excitation): Sequential(\n",
      "          (0): Linear(in_features=10, out_features=2, bias=False), 20 params\n",
      "          (1): ReLU(inplace=True), 0 params\n",
      "          (2): Linear(in_features=2, out_features=10, bias=False), 20 params\n",
      "          (3): Sigmoid(), 0 params\n",
      "        ), 40 params\n",
      "      ), 40 params\n",
      "      (norm2): LayerNorm((64,), eps=1e-05, elementwise_affine=True), 128 params\n",
      "      (TemporalBlock): Sequential(\n",
      "        (0): Conv1d(64, 128, kernel_size=(3,), stride=(1,), padding=(1,)), 24,704 params\n",
      "        (1): ReLU(), 0 params\n",
      "        (2): Dropout(p=0.1, inplace=False), 0 params\n",
      "        (3): Conv1d(128, 64, kernel_size=(3,), stride=(1,), padding=(1,)), 24,640 params\n",
      "      ), 49,344 params\n",
      "    ), 54,162 params\n",
      "    (3): ConvBlock(\n",
      "      (norm1): LayerNorm((64,), eps=1e-05, elementwise_affine=True), 128 params\n",
      "      (SpatioBlock): Sequential(\n",
      "        (0): Conv1d(10, 32, kernel_size=(7,), stride=(1,), padding=(3,)), 2,272 params\n",
      "        (1): ReLU(), 0 params\n",
      "        (2): Dropout(p=0.1, inplace=False), 0 params\n",
      "        (3): Conv1d(32, 10, kernel_size=(7,), stride=(1,), padding=(3,)), 2,250 params\n",
      "      ), 4,522 params\n",
      "      (se): SELayer(\n",
      "        (squeeze): AdaptiveAvgPool1d(output_size=1), 0 params\n",
      "        (excitation): Sequential(\n",
      "          (0): Linear(in_features=10, out_features=2, bias=False), 20 params\n",
      "          (1): ReLU(inplace=True), 0 params\n",
      "          (2): Linear(in_features=2, out_features=10, bias=False), 20 params\n",
      "          (3): Sigmoid(), 0 params\n",
      "        ), 40 params\n",
      "      ), 40 params\n",
      "      (norm2): LayerNorm((64,), eps=1e-05, elementwise_affine=True), 128 params\n",
      "      (TemporalBlock): Sequential(\n",
      "        (0): Conv1d(64, 128, kernel_size=(3,), stride=(1,), padding=(1,)), 24,704 params\n",
      "        (1): ReLU(), 0 params\n",
      "        (2): Dropout(p=0.1, inplace=False), 0 params\n",
      "        (3): Conv1d(128, 64, kernel_size=(3,), stride=(1,), padding=(1,)), 24,640 params\n",
      "      ), 49,344 params\n",
      "    ), 54,162 params\n",
      "    (4): ConvBlock(\n",
      "      (norm1): LayerNorm((64,), eps=1e-05, elementwise_affine=True), 128 params\n",
      "      (SpatioBlock): Sequential(\n",
      "        (0): Conv1d(10, 32, kernel_size=(7,), stride=(1,), padding=(3,)), 2,272 params\n",
      "        (1): ReLU(), 0 params\n",
      "        (2): Dropout(p=0.1, inplace=False), 0 params\n",
      "        (3): Conv1d(32, 10, kernel_size=(7,), stride=(1,), padding=(3,)), 2,250 params\n",
      "      ), 4,522 params\n",
      "      (se): SELayer(\n",
      "        (squeeze): AdaptiveAvgPool1d(output_size=1), 0 params\n",
      "        (excitation): Sequential(\n",
      "          (0): Linear(in_features=10, out_features=2, bias=False), 20 params\n",
      "          (1): ReLU(inplace=True), 0 params\n",
      "          (2): Linear(in_features=2, out_features=10, bias=False), 20 params\n",
      "          (3): Sigmoid(), 0 params\n",
      "        ), 40 params\n",
      "      ), 40 params\n",
      "      (norm2): LayerNorm((64,), eps=1e-05, elementwise_affine=True), 128 params\n",
      "      (TemporalBlock): Sequential(\n",
      "        (0): Conv1d(64, 128, kernel_size=(3,), stride=(1,), padding=(1,)), 24,704 params\n",
      "        (1): ReLU(), 0 params\n",
      "        (2): Dropout(p=0.1, inplace=False), 0 params\n",
      "        (3): Conv1d(128, 64, kernel_size=(3,), stride=(1,), padding=(1,)), 24,640 params\n",
      "      ), 49,344 params\n",
      "    ), 54,162 params\n",
      "  ), 270,810 params\n",
      "  (decoder): Sequential(\n",
      "    (0): Conv1d(10, 10, kernel_size=(1,), stride=(1,)), 110 params\n",
      "    (1): Linear(in_features=64, out_features=51, bias=True), 3,315 params\n",
      "  ), 3,425 params\n",
      "), 277,563 params\n",
      "\n",
      "\n",
      "==========================================================================================\n",
      "\n"
     ]
    }
   ],
   "source": [
    "model_1d_tune = Model(kernel_type=0, kernel_x=7, kernel_y=3, num_layers=5, hidden_dim=64,\n",
    "                 input_size=input_size, seq_len=seq_len, pred_len=pred_len, time_hid=32, joints_hid=128).to(device)\n",
    "model_1d_tune.load_state_dict(torch.load(\"runs/1d_tune\\model.pt\"))\n",
    "print(summary(model_1d_tune.to('cpu'), torch.zeros((batch_size, seq_len, input_size)), show_hierarchical=True))"
   ]
  },
  {
   "cell_type": "markdown",
   "id": "3f6d4a6e",
   "metadata": {},
   "source": [
    "## Test and visualize"
   ]
  },
  {
   "cell_type": "code",
   "execution_count": 20,
   "id": "97e0d16a",
   "metadata": {},
   "outputs": [
    {
     "name": "stdout",
     "output_type": "stream",
     "text": [
      "Train loss: 0.07261426001787186\n",
      "Valid loss: 0.09933522343635559\n",
      "Extra loss: 0.18682482838630676\n"
     ]
    }
   ],
   "source": [
    "train_loss, test_loss, extra_loss, train_seq, test_seq, extra_seq = test(model=model_1d_tune.to(device), \n",
    "train_loader=train_loader_25, test_loader=test_loader_25, extra_loader=extra_loader_25, dev=device, \n",
    "                                                                         input_n=seq_len, output_n=25,\n",
    "                                                                         autoreg=True)\n",
    "print(\"Train loss:\", train_loss)\n",
    "print(\"Valid loss:\", test_loss)\n",
    "print(\"Extra loss:\", extra_loss)"
   ]
  },
  {
   "cell_type": "markdown",
   "id": "cbc67d90",
   "metadata": {},
   "source": [
    "# Model trained for 5 epochs"
   ]
  },
  {
   "cell_type": "code",
   "execution_count": 21,
   "id": "8f2557ec",
   "metadata": {},
   "outputs": [
    {
     "name": "stdout",
     "output_type": "stream",
     "text": [
      "-----------------------------------------------------------------------\n",
      "      Layer (type)        Output Shape         Param #     Tr. Param #\n",
      "=======================================================================\n",
      "          Linear-1        [64, 10, 64]           3,328           3,328\n",
      "       ConvBlock-2        [64, 10, 64]          54,162          54,162\n",
      "       ConvBlock-3        [64, 10, 64]          54,162          54,162\n",
      "       ConvBlock-4        [64, 10, 64]          54,162          54,162\n",
      "       ConvBlock-5        [64, 10, 64]          54,162          54,162\n",
      "       ConvBlock-6        [64, 10, 64]          54,162          54,162\n",
      "          Conv1d-7        [64, 10, 64]             110             110\n",
      "          Linear-8        [64, 10, 51]           3,315           3,315\n",
      "=======================================================================\n",
      "Total params: 277,563\n",
      "Trainable params: 277,563\n",
      "Non-trainable params: 0\n",
      "-----------------------------------------------------------------------\n",
      "\n",
      "\n",
      "================================== Hierarchical Summary ==================================\n",
      "\n",
      "Model(\n",
      "  (encoder): Linear(in_features=51, out_features=64, bias=True), 3,328 params\n",
      "  (conv_blocks): Sequential(\n",
      "    (0): ConvBlock(\n",
      "      (norm1): LayerNorm((64,), eps=1e-05, elementwise_affine=True), 128 params\n",
      "      (SpatioBlock): Sequential(\n",
      "        (0): Conv1d(10, 32, kernel_size=(7,), stride=(1,), padding=(3,)), 2,272 params\n",
      "        (1): ReLU(), 0 params\n",
      "        (2): Dropout(p=0.1, inplace=False), 0 params\n",
      "        (3): Conv1d(32, 10, kernel_size=(7,), stride=(1,), padding=(3,)), 2,250 params\n",
      "      ), 4,522 params\n",
      "      (se): SELayer(\n",
      "        (squeeze): AdaptiveAvgPool1d(output_size=1), 0 params\n",
      "        (excitation): Sequential(\n",
      "          (0): Linear(in_features=10, out_features=2, bias=False), 20 params\n",
      "          (1): ReLU(inplace=True), 0 params\n",
      "          (2): Linear(in_features=2, out_features=10, bias=False), 20 params\n",
      "          (3): Sigmoid(), 0 params\n",
      "        ), 40 params\n",
      "      ), 40 params\n",
      "      (norm2): LayerNorm((64,), eps=1e-05, elementwise_affine=True), 128 params\n",
      "      (TemporalBlock): Sequential(\n",
      "        (0): Conv1d(64, 128, kernel_size=(3,), stride=(1,), padding=(1,)), 24,704 params\n",
      "        (1): ReLU(), 0 params\n",
      "        (2): Dropout(p=0.1, inplace=False), 0 params\n",
      "        (3): Conv1d(128, 64, kernel_size=(3,), stride=(1,), padding=(1,)), 24,640 params\n",
      "      ), 49,344 params\n",
      "    ), 54,162 params\n",
      "    (1): ConvBlock(\n",
      "      (norm1): LayerNorm((64,), eps=1e-05, elementwise_affine=True), 128 params\n",
      "      (SpatioBlock): Sequential(\n",
      "        (0): Conv1d(10, 32, kernel_size=(7,), stride=(1,), padding=(3,)), 2,272 params\n",
      "        (1): ReLU(), 0 params\n",
      "        (2): Dropout(p=0.1, inplace=False), 0 params\n",
      "        (3): Conv1d(32, 10, kernel_size=(7,), stride=(1,), padding=(3,)), 2,250 params\n",
      "      ), 4,522 params\n",
      "      (se): SELayer(\n",
      "        (squeeze): AdaptiveAvgPool1d(output_size=1), 0 params\n",
      "        (excitation): Sequential(\n",
      "          (0): Linear(in_features=10, out_features=2, bias=False), 20 params\n",
      "          (1): ReLU(inplace=True), 0 params\n",
      "          (2): Linear(in_features=2, out_features=10, bias=False), 20 params\n",
      "          (3): Sigmoid(), 0 params\n",
      "        ), 40 params\n",
      "      ), 40 params\n",
      "      (norm2): LayerNorm((64,), eps=1e-05, elementwise_affine=True), 128 params\n",
      "      (TemporalBlock): Sequential(\n",
      "        (0): Conv1d(64, 128, kernel_size=(3,), stride=(1,), padding=(1,)), 24,704 params\n",
      "        (1): ReLU(), 0 params\n",
      "        (2): Dropout(p=0.1, inplace=False), 0 params\n",
      "        (3): Conv1d(128, 64, kernel_size=(3,), stride=(1,), padding=(1,)), 24,640 params\n",
      "      ), 49,344 params\n",
      "    ), 54,162 params\n",
      "    (2): ConvBlock(\n",
      "      (norm1): LayerNorm((64,), eps=1e-05, elementwise_affine=True), 128 params\n",
      "      (SpatioBlock): Sequential(\n",
      "        (0): Conv1d(10, 32, kernel_size=(7,), stride=(1,), padding=(3,)), 2,272 params\n",
      "        (1): ReLU(), 0 params\n",
      "        (2): Dropout(p=0.1, inplace=False), 0 params\n",
      "        (3): Conv1d(32, 10, kernel_size=(7,), stride=(1,), padding=(3,)), 2,250 params\n",
      "      ), 4,522 params\n",
      "      (se): SELayer(\n",
      "        (squeeze): AdaptiveAvgPool1d(output_size=1), 0 params\n",
      "        (excitation): Sequential(\n",
      "          (0): Linear(in_features=10, out_features=2, bias=False), 20 params\n",
      "          (1): ReLU(inplace=True), 0 params\n",
      "          (2): Linear(in_features=2, out_features=10, bias=False), 20 params\n",
      "          (3): Sigmoid(), 0 params\n",
      "        ), 40 params\n",
      "      ), 40 params\n",
      "      (norm2): LayerNorm((64,), eps=1e-05, elementwise_affine=True), 128 params\n",
      "      (TemporalBlock): Sequential(\n",
      "        (0): Conv1d(64, 128, kernel_size=(3,), stride=(1,), padding=(1,)), 24,704 params\n",
      "        (1): ReLU(), 0 params\n",
      "        (2): Dropout(p=0.1, inplace=False), 0 params\n",
      "        (3): Conv1d(128, 64, kernel_size=(3,), stride=(1,), padding=(1,)), 24,640 params\n",
      "      ), 49,344 params\n",
      "    ), 54,162 params\n",
      "    (3): ConvBlock(\n",
      "      (norm1): LayerNorm((64,), eps=1e-05, elementwise_affine=True), 128 params\n",
      "      (SpatioBlock): Sequential(\n",
      "        (0): Conv1d(10, 32, kernel_size=(7,), stride=(1,), padding=(3,)), 2,272 params\n",
      "        (1): ReLU(), 0 params\n",
      "        (2): Dropout(p=0.1, inplace=False), 0 params\n",
      "        (3): Conv1d(32, 10, kernel_size=(7,), stride=(1,), padding=(3,)), 2,250 params\n",
      "      ), 4,522 params\n",
      "      (se): SELayer(\n",
      "        (squeeze): AdaptiveAvgPool1d(output_size=1), 0 params\n",
      "        (excitation): Sequential(\n",
      "          (0): Linear(in_features=10, out_features=2, bias=False), 20 params\n",
      "          (1): ReLU(inplace=True), 0 params\n",
      "          (2): Linear(in_features=2, out_features=10, bias=False), 20 params\n",
      "          (3): Sigmoid(), 0 params\n",
      "        ), 40 params\n",
      "      ), 40 params\n",
      "      (norm2): LayerNorm((64,), eps=1e-05, elementwise_affine=True), 128 params\n",
      "      (TemporalBlock): Sequential(\n",
      "        (0): Conv1d(64, 128, kernel_size=(3,), stride=(1,), padding=(1,)), 24,704 params\n",
      "        (1): ReLU(), 0 params\n",
      "        (2): Dropout(p=0.1, inplace=False), 0 params\n",
      "        (3): Conv1d(128, 64, kernel_size=(3,), stride=(1,), padding=(1,)), 24,640 params\n",
      "      ), 49,344 params\n",
      "    ), 54,162 params\n",
      "    (4): ConvBlock(\n",
      "      (norm1): LayerNorm((64,), eps=1e-05, elementwise_affine=True), 128 params\n",
      "      (SpatioBlock): Sequential(\n",
      "        (0): Conv1d(10, 32, kernel_size=(7,), stride=(1,), padding=(3,)), 2,272 params\n",
      "        (1): ReLU(), 0 params\n",
      "        (2): Dropout(p=0.1, inplace=False), 0 params\n",
      "        (3): Conv1d(32, 10, kernel_size=(7,), stride=(1,), padding=(3,)), 2,250 params\n",
      "      ), 4,522 params\n",
      "      (se): SELayer(\n",
      "        (squeeze): AdaptiveAvgPool1d(output_size=1), 0 params\n",
      "        (excitation): Sequential(\n",
      "          (0): Linear(in_features=10, out_features=2, bias=False), 20 params\n",
      "          (1): ReLU(inplace=True), 0 params\n",
      "          (2): Linear(in_features=2, out_features=10, bias=False), 20 params\n",
      "          (3): Sigmoid(), 0 params\n",
      "        ), 40 params\n",
      "      ), 40 params\n",
      "      (norm2): LayerNorm((64,), eps=1e-05, elementwise_affine=True), 128 params\n",
      "      (TemporalBlock): Sequential(\n",
      "        (0): Conv1d(64, 128, kernel_size=(3,), stride=(1,), padding=(1,)), 24,704 params\n",
      "        (1): ReLU(), 0 params\n",
      "        (2): Dropout(p=0.1, inplace=False), 0 params\n",
      "        (3): Conv1d(128, 64, kernel_size=(3,), stride=(1,), padding=(1,)), 24,640 params\n",
      "      ), 49,344 params\n",
      "    ), 54,162 params\n",
      "  ), 270,810 params\n",
      "  (decoder): Sequential(\n",
      "    (0): Conv1d(10, 10, kernel_size=(1,), stride=(1,)), 110 params\n",
      "    (1): Linear(in_features=64, out_features=51, bias=True), 3,315 params\n",
      "  ), 3,425 params\n",
      "), 277,563 params\n",
      "\n",
      "\n",
      "==========================================================================================\n",
      "\n"
     ]
    }
   ],
   "source": [
    "model = Model(kernel_type=0, kernel_x=7, kernel_y=3, num_layers=5, hidden_dim=64,\n",
    "                 input_size=input_size, seq_len=seq_len, pred_len=pred_len, time_hid=32, joints_hid=128)\n",
    "print(summary(model, torch.zeros((batch_size, seq_len, input_size)), show_hierarchical=True))"
   ]
  },
  {
   "cell_type": "markdown",
   "id": "41b0c43d",
   "metadata": {},
   "source": [
    "## Train model"
   ]
  },
  {
   "cell_type": "code",
   "execution_count": 22,
   "id": "a021141b",
   "metadata": {},
   "outputs": [
    {
     "name": "stdout",
     "output_type": "stream",
     "text": [
      "Save data of the run in: ./runs\\exp7\n",
      "Run epoch: 0\n"
     ]
    },
    {
     "name": "stderr",
     "output_type": "stream",
     "text": [
      "100%|██████████████████████████████████████████████████████████████████████████████| 2847/2847 [03:42<00:00, 12.78it/s]\n"
     ]
    },
    {
     "name": "stdout",
     "output_type": "stream",
     "text": [
      "Run epoch: 1\n"
     ]
    },
    {
     "name": "stderr",
     "output_type": "stream",
     "text": [
      "100%|██████████████████████████████████████████████████████████████████████████████| 2847/2847 [03:41<00:00, 12.83it/s]\n"
     ]
    },
    {
     "name": "stdout",
     "output_type": "stream",
     "text": [
      "Run epoch: 2\n"
     ]
    },
    {
     "name": "stderr",
     "output_type": "stream",
     "text": [
      "100%|██████████████████████████████████████████████████████████████████████████████| 2847/2847 [03:38<00:00, 13.00it/s]\n"
     ]
    },
    {
     "name": "stdout",
     "output_type": "stream",
     "text": [
      "Run epoch: 3\n"
     ]
    },
    {
     "name": "stderr",
     "output_type": "stream",
     "text": [
      "100%|██████████████████████████████████████████████████████████████████████████████| 2847/2847 [03:44<00:00, 12.68it/s]\n"
     ]
    },
    {
     "name": "stdout",
     "output_type": "stream",
     "text": [
      "Run epoch: 4\n"
     ]
    },
    {
     "name": "stderr",
     "output_type": "stream",
     "text": [
      "100%|██████████████████████████████████████████████████████████████████████████████| 2847/2847 [03:42<00:00, 12.79it/s]\n"
     ]
    }
   ],
   "source": [
    "model_1d_5e = Model(kernel_type=0, kernel_x=7, kernel_y=3, num_layers=5, hidden_dim=64,\n",
    "                 input_size=input_size, seq_len=seq_len, pred_len=pred_len, time_hid=32, joints_hid=128).to(device)\n",
    "train(model_1d_5e, train_loader, test_loader, device, lr=lr, n_epochs=5, root='./runs', \n",
    "      input_n=seq_len, output_n=pred_len, autoreg=False)"
   ]
  },
  {
   "cell_type": "markdown",
   "id": "c9933a8e",
   "metadata": {},
   "source": [
    "## Load saved model"
   ]
  },
  {
   "cell_type": "code",
   "execution_count": 24,
   "id": "3307ef9a",
   "metadata": {},
   "outputs": [
    {
     "name": "stdout",
     "output_type": "stream",
     "text": [
      "-----------------------------------------------------------------------\n",
      "      Layer (type)        Output Shape         Param #     Tr. Param #\n",
      "=======================================================================\n",
      "          Linear-1        [64, 10, 64]           3,328           3,328\n",
      "       ConvBlock-2        [64, 10, 64]          54,162          54,162\n",
      "       ConvBlock-3        [64, 10, 64]          54,162          54,162\n",
      "       ConvBlock-4        [64, 10, 64]          54,162          54,162\n",
      "       ConvBlock-5        [64, 10, 64]          54,162          54,162\n",
      "       ConvBlock-6        [64, 10, 64]          54,162          54,162\n",
      "          Conv1d-7        [64, 10, 64]             110             110\n",
      "          Linear-8        [64, 10, 51]           3,315           3,315\n",
      "=======================================================================\n",
      "Total params: 277,563\n",
      "Trainable params: 277,563\n",
      "Non-trainable params: 0\n",
      "-----------------------------------------------------------------------\n",
      "\n",
      "\n",
      "================================== Hierarchical Summary ==================================\n",
      "\n",
      "Model(\n",
      "  (encoder): Linear(in_features=51, out_features=64, bias=True), 3,328 params\n",
      "  (conv_blocks): Sequential(\n",
      "    (0): ConvBlock(\n",
      "      (norm1): LayerNorm((64,), eps=1e-05, elementwise_affine=True), 128 params\n",
      "      (SpatioBlock): Sequential(\n",
      "        (0): Conv1d(10, 32, kernel_size=(7,), stride=(1,), padding=(3,)), 2,272 params\n",
      "        (1): ReLU(), 0 params\n",
      "        (2): Dropout(p=0.1, inplace=False), 0 params\n",
      "        (3): Conv1d(32, 10, kernel_size=(7,), stride=(1,), padding=(3,)), 2,250 params\n",
      "      ), 4,522 params\n",
      "      (se): SELayer(\n",
      "        (squeeze): AdaptiveAvgPool1d(output_size=1), 0 params\n",
      "        (excitation): Sequential(\n",
      "          (0): Linear(in_features=10, out_features=2, bias=False), 20 params\n",
      "          (1): ReLU(inplace=True), 0 params\n",
      "          (2): Linear(in_features=2, out_features=10, bias=False), 20 params\n",
      "          (3): Sigmoid(), 0 params\n",
      "        ), 40 params\n",
      "      ), 40 params\n",
      "      (norm2): LayerNorm((64,), eps=1e-05, elementwise_affine=True), 128 params\n",
      "      (TemporalBlock): Sequential(\n",
      "        (0): Conv1d(64, 128, kernel_size=(3,), stride=(1,), padding=(1,)), 24,704 params\n",
      "        (1): ReLU(), 0 params\n",
      "        (2): Dropout(p=0.1, inplace=False), 0 params\n",
      "        (3): Conv1d(128, 64, kernel_size=(3,), stride=(1,), padding=(1,)), 24,640 params\n",
      "      ), 49,344 params\n",
      "    ), 54,162 params\n",
      "    (1): ConvBlock(\n",
      "      (norm1): LayerNorm((64,), eps=1e-05, elementwise_affine=True), 128 params\n",
      "      (SpatioBlock): Sequential(\n",
      "        (0): Conv1d(10, 32, kernel_size=(7,), stride=(1,), padding=(3,)), 2,272 params\n",
      "        (1): ReLU(), 0 params\n",
      "        (2): Dropout(p=0.1, inplace=False), 0 params\n",
      "        (3): Conv1d(32, 10, kernel_size=(7,), stride=(1,), padding=(3,)), 2,250 params\n",
      "      ), 4,522 params\n",
      "      (se): SELayer(\n",
      "        (squeeze): AdaptiveAvgPool1d(output_size=1), 0 params\n",
      "        (excitation): Sequential(\n",
      "          (0): Linear(in_features=10, out_features=2, bias=False), 20 params\n",
      "          (1): ReLU(inplace=True), 0 params\n",
      "          (2): Linear(in_features=2, out_features=10, bias=False), 20 params\n",
      "          (3): Sigmoid(), 0 params\n",
      "        ), 40 params\n",
      "      ), 40 params\n",
      "      (norm2): LayerNorm((64,), eps=1e-05, elementwise_affine=True), 128 params\n",
      "      (TemporalBlock): Sequential(\n",
      "        (0): Conv1d(64, 128, kernel_size=(3,), stride=(1,), padding=(1,)), 24,704 params\n",
      "        (1): ReLU(), 0 params\n",
      "        (2): Dropout(p=0.1, inplace=False), 0 params\n",
      "        (3): Conv1d(128, 64, kernel_size=(3,), stride=(1,), padding=(1,)), 24,640 params\n",
      "      ), 49,344 params\n",
      "    ), 54,162 params\n",
      "    (2): ConvBlock(\n",
      "      (norm1): LayerNorm((64,), eps=1e-05, elementwise_affine=True), 128 params\n",
      "      (SpatioBlock): Sequential(\n",
      "        (0): Conv1d(10, 32, kernel_size=(7,), stride=(1,), padding=(3,)), 2,272 params\n",
      "        (1): ReLU(), 0 params\n",
      "        (2): Dropout(p=0.1, inplace=False), 0 params\n",
      "        (3): Conv1d(32, 10, kernel_size=(7,), stride=(1,), padding=(3,)), 2,250 params\n",
      "      ), 4,522 params\n",
      "      (se): SELayer(\n",
      "        (squeeze): AdaptiveAvgPool1d(output_size=1), 0 params\n",
      "        (excitation): Sequential(\n",
      "          (0): Linear(in_features=10, out_features=2, bias=False), 20 params\n",
      "          (1): ReLU(inplace=True), 0 params\n",
      "          (2): Linear(in_features=2, out_features=10, bias=False), 20 params\n",
      "          (3): Sigmoid(), 0 params\n",
      "        ), 40 params\n",
      "      ), 40 params\n",
      "      (norm2): LayerNorm((64,), eps=1e-05, elementwise_affine=True), 128 params\n",
      "      (TemporalBlock): Sequential(\n",
      "        (0): Conv1d(64, 128, kernel_size=(3,), stride=(1,), padding=(1,)), 24,704 params\n",
      "        (1): ReLU(), 0 params\n",
      "        (2): Dropout(p=0.1, inplace=False), 0 params\n",
      "        (3): Conv1d(128, 64, kernel_size=(3,), stride=(1,), padding=(1,)), 24,640 params\n",
      "      ), 49,344 params\n",
      "    ), 54,162 params\n",
      "    (3): ConvBlock(\n",
      "      (norm1): LayerNorm((64,), eps=1e-05, elementwise_affine=True), 128 params\n",
      "      (SpatioBlock): Sequential(\n",
      "        (0): Conv1d(10, 32, kernel_size=(7,), stride=(1,), padding=(3,)), 2,272 params\n",
      "        (1): ReLU(), 0 params\n",
      "        (2): Dropout(p=0.1, inplace=False), 0 params\n",
      "        (3): Conv1d(32, 10, kernel_size=(7,), stride=(1,), padding=(3,)), 2,250 params\n",
      "      ), 4,522 params\n",
      "      (se): SELayer(\n",
      "        (squeeze): AdaptiveAvgPool1d(output_size=1), 0 params\n",
      "        (excitation): Sequential(\n",
      "          (0): Linear(in_features=10, out_features=2, bias=False), 20 params\n",
      "          (1): ReLU(inplace=True), 0 params\n",
      "          (2): Linear(in_features=2, out_features=10, bias=False), 20 params\n",
      "          (3): Sigmoid(), 0 params\n",
      "        ), 40 params\n",
      "      ), 40 params\n",
      "      (norm2): LayerNorm((64,), eps=1e-05, elementwise_affine=True), 128 params\n",
      "      (TemporalBlock): Sequential(\n",
      "        (0): Conv1d(64, 128, kernel_size=(3,), stride=(1,), padding=(1,)), 24,704 params\n",
      "        (1): ReLU(), 0 params\n",
      "        (2): Dropout(p=0.1, inplace=False), 0 params\n",
      "        (3): Conv1d(128, 64, kernel_size=(3,), stride=(1,), padding=(1,)), 24,640 params\n",
      "      ), 49,344 params\n",
      "    ), 54,162 params\n",
      "    (4): ConvBlock(\n",
      "      (norm1): LayerNorm((64,), eps=1e-05, elementwise_affine=True), 128 params\n",
      "      (SpatioBlock): Sequential(\n",
      "        (0): Conv1d(10, 32, kernel_size=(7,), stride=(1,), padding=(3,)), 2,272 params\n",
      "        (1): ReLU(), 0 params\n",
      "        (2): Dropout(p=0.1, inplace=False), 0 params\n",
      "        (3): Conv1d(32, 10, kernel_size=(7,), stride=(1,), padding=(3,)), 2,250 params\n",
      "      ), 4,522 params\n",
      "      (se): SELayer(\n",
      "        (squeeze): AdaptiveAvgPool1d(output_size=1), 0 params\n",
      "        (excitation): Sequential(\n",
      "          (0): Linear(in_features=10, out_features=2, bias=False), 20 params\n",
      "          (1): ReLU(inplace=True), 0 params\n",
      "          (2): Linear(in_features=2, out_features=10, bias=False), 20 params\n",
      "          (3): Sigmoid(), 0 params\n",
      "        ), 40 params\n",
      "      ), 40 params\n",
      "      (norm2): LayerNorm((64,), eps=1e-05, elementwise_affine=True), 128 params\n",
      "      (TemporalBlock): Sequential(\n",
      "        (0): Conv1d(64, 128, kernel_size=(3,), stride=(1,), padding=(1,)), 24,704 params\n",
      "        (1): ReLU(), 0 params\n",
      "        (2): Dropout(p=0.1, inplace=False), 0 params\n",
      "        (3): Conv1d(128, 64, kernel_size=(3,), stride=(1,), padding=(1,)), 24,640 params\n",
      "      ), 49,344 params\n",
      "    ), 54,162 params\n",
      "  ), 270,810 params\n",
      "  (decoder): Sequential(\n",
      "    (0): Conv1d(10, 10, kernel_size=(1,), stride=(1,)), 110 params\n",
      "    (1): Linear(in_features=64, out_features=51, bias=True), 3,315 params\n",
      "  ), 3,425 params\n",
      "), 277,563 params\n",
      "\n",
      "\n",
      "==========================================================================================\n",
      "\n"
     ]
    }
   ],
   "source": [
    "model_1d_5e = Model(kernel_type=0, kernel_x=7, kernel_y=3, num_layers=5, hidden_dim=64,\n",
    "                 input_size=input_size, seq_len=seq_len, pred_len=pred_len, time_hid=32, joints_hid=128).to(device)\n",
    "model_1d_5e.load_state_dict(torch.load(\"runs/1d_5e\\model.pt\"))\n",
    "print(summary(model_1d_5e.to('cpu'), torch.zeros((batch_size, seq_len, input_size)), show_hierarchical=True))"
   ]
  },
  {
   "cell_type": "markdown",
   "id": "87f0dfed",
   "metadata": {},
   "source": [
    "## Test and visualize"
   ]
  },
  {
   "cell_type": "code",
   "execution_count": 25,
   "id": "9ff1b4ad",
   "metadata": {
    "scrolled": true
   },
   "outputs": [
    {
     "name": "stdout",
     "output_type": "stream",
     "text": [
      "Train loss: 0.045284055173397064\n",
      "Valid loss: 0.05008590593934059\n",
      "Extra loss: 0.14274415373802185\n"
     ]
    }
   ],
   "source": [
    "train_loss, test_loss, extra_loss, train_seq, test_seq, extra_seq = test(model=model_1d_5e.to(device), \n",
    "train_loader=train_loader, test_loader=test_loader, extra_loader=extra_loader, dev=device, input_n=seq_len, output_n=pred_len)\n",
    "print(\"Train loss:\", train_loss)\n",
    "print(\"Valid loss:\", test_loss)\n",
    "print(\"Extra loss:\", extra_loss)"
   ]
  },
  {
   "cell_type": "code",
   "execution_count": null,
   "id": "acf4048b",
   "metadata": {},
   "outputs": [],
   "source": []
  }
 ],
 "metadata": {
  "kernelspec": {
   "display_name": "Python 3 (ipykernel)",
   "language": "python",
   "name": "python3"
  },
  "language_info": {
   "codemirror_mode": {
    "name": "ipython",
    "version": 3
   },
   "file_extension": ".py",
   "mimetype": "text/x-python",
   "name": "python",
   "nbconvert_exporter": "python",
   "pygments_lexer": "ipython3",
   "version": "3.8.17"
  }
 },
 "nbformat": 4,
 "nbformat_minor": 5
}
